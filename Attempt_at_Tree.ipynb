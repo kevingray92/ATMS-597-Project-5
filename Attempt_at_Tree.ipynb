{
  "nbformat": 4,
  "nbformat_minor": 0,
  "metadata": {
    "colab": {
      "name": "Attempt at Tree.ipynb",
      "provenance": [],
      "collapsed_sections": [],
      "include_colab_link": true
    },
    "kernelspec": {
      "name": "python3",
      "display_name": "Python 3"
    }
  },
  "cells": [
    {
      "cell_type": "markdown",
      "metadata": {
        "id": "view-in-github",
        "colab_type": "text"
      },
      "source": [
        "<a href=\"https://colab.research.google.com/github/rmiller34/ATMS-597-Project-5/blob/master/Attempt_at_Tree.ipynb\" target=\"_parent\"><img src=\"https://colab.research.google.com/assets/colab-badge.svg\" alt=\"Open In Colab\"/></a>"
      ]
    },
    {
      "cell_type": "code",
      "metadata": {
        "id": "JXsE2Oc239jd",
        "colab_type": "code",
        "colab": {}
      },
      "source": [
        "import numpy as np\n",
        "import pandas as pd\n",
        "from datetime import datetime"
      ],
      "execution_count": 0,
      "outputs": []
    },
    {
      "cell_type": "code",
      "metadata": {
        "id": "y-Xm9VvA4N7o",
        "colab_type": "code",
        "outputId": "5226cc23-4faa-4a67-e96b-5264c7b60064",
        "colab": {
          "base_uri": "https://localhost:8080/",
          "height": 819
        }
      },
      "source": [
        "from google.colab import drive\n",
        "drive.mount('/content/gdrive')\n",
        "#change directory to the right spot\n",
        "import os \n",
        "os.chdir('/content/gdrive/My Drive/ATMS_597_Project_5')\n",
        "\n",
        "### Read all years data file\n",
        "from datetime import datetime\n",
        "import pandas as pd\n",
        "\n",
        "!pip install metpy\n",
        "from metpy.io import parse_metar_to_dataframe\n",
        "import glob\n",
        "import numpy as np\n",
        "filename= 'decoded_metar_dataset.csv'\n",
        "decoded_metar_dataset=pd.read_csv(filename,dtype={'current_wx1':str})"
      ],
      "execution_count": 2,
      "outputs": [
        {
          "output_type": "stream",
          "text": [
            "Go to this URL in a browser: https://accounts.google.com/o/oauth2/auth?client_id=947318989803-6bn6qk8qdgf4n4g3pfee6491hc0brc4i.apps.googleusercontent.com&redirect_uri=urn%3aietf%3awg%3aoauth%3a2.0%3aoob&response_type=code&scope=email%20https%3a%2f%2fwww.googleapis.com%2fauth%2fdocs.test%20https%3a%2f%2fwww.googleapis.com%2fauth%2fdrive%20https%3a%2f%2fwww.googleapis.com%2fauth%2fdrive.photos.readonly%20https%3a%2f%2fwww.googleapis.com%2fauth%2fpeopleapi.readonly\n",
            "\n",
            "Enter your authorization code:\n",
            "··········\n",
            "Mounted at /content/gdrive\n",
            "Collecting metpy\n",
            "\u001b[?25l  Downloading https://files.pythonhosted.org/packages/47/4d/e33b76fdca421daeca8ac06fc012de40553364e7e79468040ea42f66a989/MetPy-0.12.1-py3-none-any.whl (319kB)\n",
            "\u001b[K     |████████████████████████████████| 327kB 2.8MB/s \n",
            "\u001b[?25hRequirement already satisfied: traitlets>=4.3.0 in /usr/local/lib/python3.6/dist-packages (from metpy) (4.3.3)\n",
            "Collecting pooch>=0.1\n",
            "\u001b[?25l  Downloading https://files.pythonhosted.org/packages/66/ad/df0a1023b40c122d6e7c01ea1ebb69b04c6c5f97871df1dc863cb77c78e4/pooch-1.1.0-py3-none-any.whl (44kB)\n",
            "\u001b[K     |████████████████████████████████| 51kB 6.3MB/s \n",
            "\u001b[?25hRequirement already satisfied: numpy>=1.16.0 in /usr/local/lib/python3.6/dist-packages (from metpy) (1.18.2)\n",
            "Requirement already satisfied: matplotlib>=2.1.0 in /usr/local/lib/python3.6/dist-packages (from metpy) (3.2.1)\n",
            "Collecting pint>=0.10.1\n",
            "\u001b[?25l  Downloading https://files.pythonhosted.org/packages/9d/db/7a2204b03c22069839958df5723eb2718d50c33052e0da84c9a83de14ea4/Pint-0.11-py2.py3-none-any.whl (186kB)\n",
            "\u001b[K     |████████████████████████████████| 194kB 8.7MB/s \n",
            "\u001b[?25hRequirement already satisfied: xarray>=0.13.0 in /usr/local/lib/python3.6/dist-packages (from metpy) (0.15.1)\n",
            "Requirement already satisfied: pandas>=0.22.0 in /usr/local/lib/python3.6/dist-packages (from metpy) (1.0.3)\n",
            "Requirement already satisfied: scipy>=1.0 in /usr/local/lib/python3.6/dist-packages (from metpy) (1.4.1)\n",
            "Requirement already satisfied: decorator in /usr/local/lib/python3.6/dist-packages (from traitlets>=4.3.0->metpy) (4.4.2)\n",
            "Requirement already satisfied: six in /usr/local/lib/python3.6/dist-packages (from traitlets>=4.3.0->metpy) (1.12.0)\n",
            "Requirement already satisfied: ipython-genutils in /usr/local/lib/python3.6/dist-packages (from traitlets>=4.3.0->metpy) (0.2.0)\n",
            "Requirement already satisfied: requests in /usr/local/lib/python3.6/dist-packages (from pooch>=0.1->metpy) (2.21.0)\n",
            "Requirement already satisfied: packaging in /usr/local/lib/python3.6/dist-packages (from pooch>=0.1->metpy) (20.3)\n",
            "Collecting appdirs\n",
            "  Downloading https://files.pythonhosted.org/packages/56/eb/810e700ed1349edde4cbdc1b2a21e28cdf115f9faf263f6bbf8447c1abf3/appdirs-1.4.3-py2.py3-none-any.whl\n",
            "Requirement already satisfied: kiwisolver>=1.0.1 in /usr/local/lib/python3.6/dist-packages (from matplotlib>=2.1.0->metpy) (1.2.0)\n",
            "Requirement already satisfied: cycler>=0.10 in /usr/local/lib/python3.6/dist-packages (from matplotlib>=2.1.0->metpy) (0.10.0)\n",
            "Requirement already satisfied: python-dateutil>=2.1 in /usr/local/lib/python3.6/dist-packages (from matplotlib>=2.1.0->metpy) (2.8.1)\n",
            "Requirement already satisfied: pyparsing!=2.0.4,!=2.1.2,!=2.1.6,>=2.0.1 in /usr/local/lib/python3.6/dist-packages (from matplotlib>=2.1.0->metpy) (2.4.7)\n",
            "Requirement already satisfied: setuptools in /usr/local/lib/python3.6/dist-packages (from pint>=0.10.1->metpy) (46.1.3)\n",
            "Requirement already satisfied: pytz>=2017.2 in /usr/local/lib/python3.6/dist-packages (from pandas>=0.22.0->metpy) (2018.9)\n",
            "Requirement already satisfied: idna<2.9,>=2.5 in /usr/local/lib/python3.6/dist-packages (from requests->pooch>=0.1->metpy) (2.8)\n",
            "Requirement already satisfied: urllib3<1.25,>=1.21.1 in /usr/local/lib/python3.6/dist-packages (from requests->pooch>=0.1->metpy) (1.24.3)\n",
            "Requirement already satisfied: chardet<3.1.0,>=3.0.2 in /usr/local/lib/python3.6/dist-packages (from requests->pooch>=0.1->metpy) (3.0.4)\n",
            "Requirement already satisfied: certifi>=2017.4.17 in /usr/local/lib/python3.6/dist-packages (from requests->pooch>=0.1->metpy) (2020.4.5.1)\n",
            "Installing collected packages: appdirs, pooch, pint, metpy\n",
            "Successfully installed appdirs-1.4.3 metpy-0.12.1 pint-0.11 pooch-1.1.0\n"
          ],
          "name": "stdout"
        },
        {
          "output_type": "stream",
          "text": [
            "Downloading file 'sfstns.tbl' from 'https://github.com/Unidata/MetPy/raw/v0.12.1/staticdata/sfstns.tbl' to '/root/.cache/metpy/v0.12.1'.\n",
            "Downloading file 'master.txt' from 'https://github.com/Unidata/MetPy/raw/v0.12.1/staticdata/master.txt' to '/root/.cache/metpy/v0.12.1'.\n",
            "Downloading file 'stations.txt' from 'https://github.com/Unidata/MetPy/raw/v0.12.1/staticdata/stations.txt' to '/root/.cache/metpy/v0.12.1'.\n",
            "Downloading file 'airport-codes.csv' from 'https://github.com/Unidata/MetPy/raw/v0.12.1/staticdata/airport-codes.csv' to '/root/.cache/metpy/v0.12.1'.\n",
            "Cannot import USCOUNTIES and USSTATES without Cartopy installed.\n",
            "/usr/local/lib/python3.6/dist-packages/IPython/core/interactiveshell.py:2718: DtypeWarning: Columns (10,17) have mixed types.Specify dtype option on import or set low_memory=False.\n",
            "  interactivity=interactivity, compiler=compiler, result=result)\n"
          ],
          "name": "stderr"
        }
      ]
    },
    {
      "cell_type": "code",
      "metadata": {
        "id": "rQ8pboP97fb8",
        "colab_type": "code",
        "colab": {}
      },
      "source": [
        "#decoded_metar_master['current_wx1'].unique\n",
        "decoded_metar_master=decoded_metar_dataset"
      ],
      "execution_count": 0,
      "outputs": []
    },
    {
      "cell_type": "code",
      "metadata": {
        "id": "QWA-JFhW440r",
        "colab_type": "code",
        "colab": {}
      },
      "source": [
        "#decoded_metar_master = decoded_metar_master.dropna(axis=0, subset=['current_wx1','air_temperature'])\n",
        "\n",
        "## Drop columns we don't plan on using or have too many NaNs\n",
        "decoded_metar_master = decoded_metar_master.drop(['low_cloud_type',\t'low_cloud_level',\t'medium_cloud_type',\t'medium_cloud_level',\t'high_cloud_type',\t'high_cloud_level',\t'highest_cloud_type',\t'highest_cloud_level',\t'cloud_coverage', 'air_pressure_at_sea_level'], axis=1)\n",
        "\n",
        "#decoded_metar_master = decoded_metar_master.dropna(axis=0)"
      ],
      "execution_count": 0,
      "outputs": []
    },
    {
      "cell_type": "code",
      "metadata": {
        "id": "uf3J07Ky5gjd",
        "colab_type": "code",
        "outputId": "63a5d277-133b-4ea9-8e30-a6f51c529a09",
        "colab": {
          "base_uri": "https://localhost:8080/",
          "height": 105
        }
      },
      "source": [
        "#convert current_wx columns to list and also check how many rows we have \n",
        "current_wx1 = decoded_metar_master['current_wx1'].to_list()\n",
        "print(len(current_wx1))\n",
        "current_wx2 = decoded_metar_master['current_wx2'].to_list()\n",
        "print(len(current_wx2))\n",
        "current_wx3 = decoded_metar_master['current_wx3'].to_list()\n",
        "print(len(current_wx3))\n",
        "\n",
        "#Check to make sure we have some frozen AND liquid weather reported\n",
        "print(current_wx1[0:50])"
      ],
      "execution_count": 5,
      "outputs": [
        {
          "output_type": "stream",
          "text": [
            "412974\n",
            "412974\n",
            "412974\n",
            "['-SN', '-SN', '-SN', '-SN', '-SN', '-SN', '-SN', '-SN', '-SN', '-SN', '-SN', '-SN', '-SN', '-SN', '-SN', '-SN', '-SN', '-SN', '-SN', '-SN', '-SN', '-SN', '-SN', '-SN', '-SN', '-SN', '-SN', '-SN', '-SN', '-SN', '-SN', '-SN', '-SN', '-SN', '-SN', '-SN', 'HZ', '-SN', '-SN', '-SN', '-RA', '-RA', '-RA', 'RA', '-RA', '-RA', '-RA', 'BR', 'BR', 'BR']\n"
          ],
          "name": "stdout"
        }
      ]
    },
    {
      "cell_type": "code",
      "metadata": {
        "id": "T8ynF6ZW_4NH",
        "colab_type": "code",
        "colab": {}
      },
      "source": [
        "### List of frozen and liquid precip options\n",
        "fzn_list = ['-SNRA','SNRA','+SNRA','-SN','SN','+SN','-FZDZ','FZDZ','+FZDZ','-FZRA','FZRA','+FZRA','-FZFG','FZFG','+FZFG','-IC','IC','+IC','-GR','GR','GR','-SG','SG','+SG','-PL','PL','+PL']\n",
        "liq_list = ['-RA','RA','+RA','-BR','BR','+BR','-TS','TS','+TS','-TSRA','TSRA','+TSRA']"
      ],
      "execution_count": 0,
      "outputs": []
    },
    {
      "cell_type": "code",
      "metadata": {
        "id": "WSGi0d5SCYnV",
        "colab_type": "code",
        "colab": {}
      },
      "source": [
        "### Set up a list to hold binary values (1 for frozen, 0 for liquid)\n",
        "binary_list = []\n",
        "\n",
        "### Loop over current_wx observations and determin if any are frozen precip. If so, set binary variable to 1. If not, set binary variable to 0.\n",
        "for i in range(len(current_wx1)):\n",
        "    if (current_wx1[i] in fzn_list) or (current_wx2[i] in fzn_list) or (current_wx3[i] in fzn_list):\n",
        "        binary_list.append(1)\n",
        "    else:\n",
        "        binary_list.append(0)"
      ],
      "execution_count": 0,
      "outputs": []
    },
    {
      "cell_type": "code",
      "metadata": {
        "id": "GjAGS9wnDJNF",
        "colab_type": "code",
        "outputId": "11f3eb49-e66a-4b73-de6c-75bcb05e8509",
        "colab": {
          "base_uri": "https://localhost:8080/",
          "height": 34
        }
      },
      "source": [
        "### Fill a new column called 'fzn_or_liq' with the binary values.\n",
        "decoded_metar_master['fzn_or_liq'] = binary_list\n",
        "\n",
        "### Then drop current_wx2 and current_wx3 because they hold a lot of NaNs\n",
        "decoded_metar_master = decoded_metar_master.drop(['current_wx2',\t'current_wx3'], axis=1)\n",
        "### Then drop all other rows with NaNs\n",
        "decoded_metar_master = decoded_metar_master.dropna(axis=0)\n",
        "### Check how many rows we are left with after cleaning up the dataframe\n",
        "current_wx1 = decoded_metar_master['current_wx1'].to_list()\n",
        "print(len(current_wx1))"
      ],
      "execution_count": 8,
      "outputs": [
        {
          "output_type": "stream",
          "text": [
            "389459\n"
          ],
          "name": "stdout"
        }
      ]
    },
    {
      "cell_type": "code",
      "metadata": {
        "id": "wtgRWCzouIq6",
        "colab_type": "code",
        "colab": {}
      },
      "source": [
        "### Split data 70/30 between training/testing\n",
        "from sklearn.model_selection import train_test_split\n",
        "predictor_cols = ['air_temperature']\n",
        "target_cols = ['fzn_or_liq']\n",
        "X = decoded_metar_master[predictor_cols]\n",
        "Y = decoded_metar_master[target_cols]\n",
        "training_predictor, test_predictor, training_target, test_target = train_test_split(X, Y, test_size=0.3)"
      ],
      "execution_count": 0,
      "outputs": []
    },
    {
      "cell_type": "code",
      "metadata": {
        "id": "CgtdAIPCJ4WW",
        "colab_type": "code",
        "colab": {}
      },
      "source": [
        "##training_target = training_predictor\n",
        "##test_target = test_predictor\n",
        "##training_target.drop(['date_time', 'station_id',\t'latitude',\t'longitude',\t'elevation',\t'wind_direction',\t'wind_speed',\t'current_wx1',\t'current_wx2',\t'current_wx3',\t'low_cloud_type',\t'low_cloud_level',\t'medium_cloud_type',\t'medium_cloud_level',\t'high_cloud_type',\t'high_cloud_level',\t'highest_cloud_type',\t'highest_cloud_level',\t'cloud_coverage',\t'air_temperature',\t'dew_point_temperature',\t'altimeter',\t'present_weather',\t'past_weather',\t'past_weather2',\t'air_pressure_at_sea_level',\t'eastward_wind',\t'northward_wind'], axis=1)\n",
        "##test_target.drop(['date_time', 'station_id',\t'latitude',\t'longitude',\t'elevation',\t'wind_direction',\t'wind_speed',\t'current_wx1',\t'current_wx2',\t'current_wx3',\t'low_cloud_type',\t'low_cloud_level',\t'medium_cloud_type',\t'medium_cloud_level',\t'high_cloud_type',\t'high_cloud_level',\t'highest_cloud_type',\t'highest_cloud_level',\t'cloud_coverage',\t'air_temperature',\t'dew_point_temperature',\t'altimeter',\t'present_weather',\t'past_weather',\t'past_weather2',\t'air_pressure_at_sea_level',\t'eastward_wind',\t'northward_wind'], axis=1)\n",
        "##training_predictor.drop(['fzn_or_liq'], axis=1)\n",
        "##test_predictor.drop(['fzn_or_liq'], axis=1)"
      ],
      "execution_count": 0,
      "outputs": []
    },
    {
      "cell_type": "code",
      "metadata": {
        "id": "W9sOhAnrT8kl",
        "colab_type": "code",
        "colab": {}
      },
      "source": [
        "from sklearn.linear_model import LogisticRegression\n"
      ],
      "execution_count": 0,
      "outputs": []
    },
    {
      "cell_type": "code",
      "metadata": {
        "id": "-d76gp6wb263",
        "colab_type": "code",
        "outputId": "015c38c7-fcfa-47c4-a795-d8dba71cf6af",
        "colab": {
          "base_uri": "https://localhost:8080/",
          "height": 105
        }
      },
      "source": [
        "# Other performance metrics\n",
        "\n",
        "#Jaccard Index, want this to be close to one\n",
        "from sklearn.metrics import jaccard_similarity_score\n",
        "j_index = jaccard_similarity_score(y_true=test_target['fzn_or_liq'],y_pred=ptype_predict)\n",
        "round(j_index,2)\n",
        "\n",
        "# F1-score\n",
        "from sklearn.metrics import f1_score\n",
        "f1_score(test_target['fzn_or_liq'], ptype_predict)\n",
        "\n",
        "# Brier skill score\n",
        "##from sklearn.metrics import brier_score_loss\n",
        "##log_score = brier_score_loss((test_target['fzn_or_liq'].values).reshape(-1,1), predsprob[:][0])\n",
        "##print('Brier:',log_score)\n",
        "from sklearn.metrics import brier_score_loss\n",
        "log_score = brier_score_loss(test_target['fzn_or_liq'],prob0)\n",
        "print('Brier:',log_score)\n",
        "\n",
        "# Precision score\n",
        "from sklearn.metrics import precision_score\n",
        "precision_score(test_target['fzn_or_liq'], ptype_predict)"
      ],
      "execution_count": 17,
      "outputs": [
        {
          "output_type": "stream",
          "text": [
            "Brier: 0.698460235178637\n"
          ],
          "name": "stdout"
        },
        {
          "output_type": "stream",
          "text": [
            "/usr/local/lib/python3.6/dist-packages/sklearn/metrics/_classification.py:664: FutureWarning: jaccard_similarity_score has been deprecated and replaced with jaccard_score. It will be removed in version 0.23. This implementation has surprising behavior for binary and multiclass classification tasks.\n",
            "  FutureWarning)\n"
          ],
          "name": "stderr"
        },
        {
          "output_type": "execute_result",
          "data": {
            "text/plain": [
              "0.6677620451360363"
            ]
          },
          "metadata": {
            "tags": []
          },
          "execution_count": 17
        }
      ]
    },
    {
      "cell_type": "code",
      "metadata": {
        "id": "X1EUjurLWqP-",
        "colab_type": "code",
        "colab": {}
      },
      "source": [
        "### put air_temperature values in an array\n",
        "training_predictor_array = training_predictor['air_temperature'].values\n",
        "test_predictor_array = test_predictor['air_temperature'].values"
      ],
      "execution_count": 0,
      "outputs": []
    },
    {
      "cell_type": "code",
      "metadata": {
        "id": "_DSFhRyTbOwE",
        "colab_type": "code",
        "colab": {}
      },
      "source": [
        "# Initiate the model using the default parameters\n",
        "logreg = LogisticRegression()\n",
        "\n",
        "# Fit the model\n",
        "#logreg.fit(training_predictor_array.reshape(-1,1), training_target['fzn_or_liq'])\n",
        "logreg.fit(training_predictor_array.reshape(-1,1), training_target['fzn_or_liq'])\n",
        "\n",
        "# Predictions\n",
        "ptype_predict=logreg.predict(test_predictor_array.reshape(-1,1))\n",
        "predsprob = logreg.predict_proba(test_predictor_array.reshape(-1,1))"
      ],
      "execution_count": 0,
      "outputs": []
    },
    {
      "cell_type": "code",
      "metadata": {
        "id": "CpU8-M5KdaMS",
        "colab_type": "code",
        "colab": {}
      },
      "source": [
        "#print(len(predsprob))\n",
        "prob0 = []\n",
        "prob1 = []\n",
        "for i in range(len(predsprob)):\n",
        "    prob0.append(predsprob[i][0])\n",
        "    prob1.append(predsprob[i][1])"
      ],
      "execution_count": 0,
      "outputs": []
    },
    {
      "cell_type": "code",
      "metadata": {
        "id": "8WZi-XFLWRw0",
        "colab_type": "code",
        "outputId": "def007df-da6b-4633-a5aa-880f7ea86d31",
        "colab": {
          "base_uri": "https://localhost:8080/",
          "height": 51
        }
      },
      "source": [
        "# Check skill with confusion matrix\n",
        "from sklearn import metrics\n",
        "cnf_matrix = metrics.confusion_matrix(test_target['fzn_or_liq'], ptype_predict)\n",
        "cnf_matrix"
      ],
      "execution_count": 15,
      "outputs": [
        {
          "output_type": "execute_result",
          "data": {
            "text/plain": [
              "array([[84424,  6875],\n",
              "       [11721, 13818]])"
            ]
          },
          "metadata": {
            "tags": []
          },
          "execution_count": 15
        }
      ]
    },
    {
      "cell_type": "code",
      "metadata": {
        "id": "IL30kQ-Rbu9v",
        "colab_type": "code",
        "outputId": "bc0fa5d0-be2d-43fd-a6e8-e2eeda21d935",
        "colab": {
          "base_uri": "https://localhost:8080/",
          "height": 396
        }
      },
      "source": [
        "# Plot confusion matrix\n",
        "\n",
        "import numpy as np\n",
        "import matplotlib.pyplot as plt\n",
        "import seaborn as sns\n",
        "%matplotlib inline\n",
        "\n",
        "class_names=[0,1] # name  of classes\n",
        "fig, ax = plt.subplots()\n",
        "tick_marks = np.arange(len(class_names))\n",
        "plt.xticks(tick_marks, class_names)\n",
        "plt.yticks(tick_marks, class_names)\n",
        "# create heatmap\n",
        "sns.heatmap(pd.DataFrame(cnf_matrix), annot=True, cmap=\"YlGnBu\" ,fmt='g')\n",
        "ax.xaxis.set_label_position(\"top\")\n",
        "plt.tight_layout()\n",
        "plt.title('Confusion matrix', y=1.1)\n",
        "plt.ylabel('Actual label')\n",
        "plt.xlabel('Predicted label')"
      ],
      "execution_count": 16,
      "outputs": [
        {
          "output_type": "stream",
          "text": [
            "/usr/local/lib/python3.6/dist-packages/statsmodels/tools/_testing.py:19: FutureWarning: pandas.util.testing is deprecated. Use the functions in the public API at pandas.testing instead.\n",
            "  import pandas.util.testing as tm\n"
          ],
          "name": "stderr"
        },
        {
          "output_type": "execute_result",
          "data": {
            "text/plain": [
              "Text(0.5, 257.44, 'Predicted label')"
            ]
          },
          "metadata": {
            "tags": []
          },
          "execution_count": 16
        },
        {
          "output_type": "display_data",
          "data": {
            "image/png": "[encoded data removed]",
            "text/plain": [
              "<Figure size 432x288 with 2 Axes>"
            ]
          },
          "metadata": {
            "tags": [],
            "needs_background": "light"
          }
        }
      ]
    },
    {
      "cell_type": "code",
      "metadata": {
        "id": "qNVJPBuFcx1l",
        "colab_type": "code",
        "colab": {}
      },
      "source": [
        "#Decision Tree\n",
        "from sklearn.model_selection import train_test_split\n",
        "predictor_cols = ['air_temperature']\n",
        "target_cols = ['fzn_or_liq']\n",
        "X = decoded_metar_master[predictor_cols]\n",
        "Y = decoded_metar_master[target_cols]\n",
        "training_predictor, test_predictor, training_target, test_target = train_test_split(X, Y, test_size=0.3)"
      ],
      "execution_count": 0,
      "outputs": []
    },
    {
      "cell_type": "code",
      "metadata": {
        "id": "Dtm0lmZWvSSk",
        "colab_type": "code",
        "colab": {
          "base_uri": "https://localhost:8080/",
          "height": 119
        },
        "outputId": "95329412-ec78-4926-e00f-cc4353d7b92a"
      },
      "source": [
        "from sklearn.tree import DecisionTreeClassifier\n",
        "classifier = DecisionTreeClassifier()\n",
        "classifier.fit(training_predictor, training_target)"
      ],
      "execution_count": 32,
      "outputs": [
        {
          "output_type": "execute_result",
          "data": {
            "text/plain": [
              "DecisionTreeClassifier(ccp_alpha=0.0, class_weight=None, criterion='gini',\n",
              "                       max_depth=None, max_features=None, max_leaf_nodes=None,\n",
              "                       min_impurity_decrease=0.0, min_impurity_split=None,\n",
              "                       min_samples_leaf=1, min_samples_split=2,\n",
              "                       min_weight_fraction_leaf=0.0, presort='deprecated',\n",
              "                       random_state=None, splitter='best')"
            ]
          },
          "metadata": {
            "tags": []
          },
          "execution_count": 32
        }
      ]
    },
    {
      "cell_type": "code",
      "metadata": {
        "id": "PnCFzbfHA9Xf",
        "colab_type": "code",
        "colab": {}
      },
      "source": [
        "y_pred = classifier.predict(test_predictor)"
      ],
      "execution_count": 0,
      "outputs": []
    },
    {
      "cell_type": "code",
      "metadata": {
        "id": "MlwkgvQRvizt",
        "colab_type": "code",
        "colab": {
          "base_uri": "https://localhost:8080/",
          "height": 204
        },
        "outputId": "1fbd1944-fa9f-41f0-94cc-29f4fad59a67"
      },
      "source": [
        "from sklearn.metrics import classification_report, confusion_matrix\n",
        "print(confusion_matrix(test_target, y_pred))\n",
        "print(classification_report(test_target, y_pred))"
      ],
      "execution_count": 34,
      "outputs": [
        {
          "output_type": "stream",
          "text": [
            "[[80585 10806]\n",
            " [ 6780 18667]]\n",
            "              precision    recall  f1-score   support\n",
            "\n",
            "           0       0.92      0.88      0.90     91391\n",
            "           1       0.63      0.73      0.68     25447\n",
            "\n",
            "    accuracy                           0.85    116838\n",
            "   macro avg       0.78      0.81      0.79    116838\n",
            "weighted avg       0.86      0.85      0.85    116838\n",
            "\n"
          ],
          "name": "stdout"
        }
      ]
    },
    {
      "cell_type": "code",
      "metadata": {
        "id": "2tmtUCTrvr7-",
        "colab_type": "code",
        "colab": {}
      },
      "source": [
        "import pandas as pd\n",
        "import numpy as np\n",
        "import matplotlib.pyplot as plt\n",
        "%matplotlib inline"
      ],
      "execution_count": 0,
      "outputs": []
    },
    {
      "cell_type": "code",
      "metadata": {
        "id": "yMxjwKBQvyla",
        "colab_type": "code",
        "colab": {}
      },
      "source": [
        "from sklearn.model_selection import train_test_split\n",
        "training_predictor, test_predictor, training_target, test_target = train_test_split(X, Y, test_size=0.3, random_state=0)"
      ],
      "execution_count": 0,
      "outputs": []
    },
    {
      "cell_type": "code",
      "metadata": {
        "id": "AJlwBBMNv7EE",
        "colab_type": "code",
        "colab": {
          "base_uri": "https://localhost:8080/",
          "height": 119
        },
        "outputId": "6d4aa464-b33b-4b1a-a7ce-3cdbaa2ccb06"
      },
      "source": [
        "from sklearn.tree import DecisionTreeRegressor\n",
        "regressor = DecisionTreeRegressor()\n",
        "regressor.fit(training_predictor, training_target)"
      ],
      "execution_count": 38,
      "outputs": [
        {
          "output_type": "execute_result",
          "data": {
            "text/plain": [
              "DecisionTreeRegressor(ccp_alpha=0.0, criterion='mse', max_depth=None,\n",
              "                      max_features=None, max_leaf_nodes=None,\n",
              "                      min_impurity_decrease=0.0, min_impurity_split=None,\n",
              "                      min_samples_leaf=1, min_samples_split=2,\n",
              "                      min_weight_fraction_leaf=0.0, presort='deprecated',\n",
              "                      random_state=None, splitter='best')"
            ]
          },
          "metadata": {
            "tags": []
          },
          "execution_count": 38
        }
      ]
    },
    {
      "cell_type": "code",
      "metadata": {
        "id": "uQKHvzSMwBUB",
        "colab_type": "code",
        "colab": {}
      },
      "source": [
        "y_pred = regressor.predict(test_predictor)"
      ],
      "execution_count": 0,
      "outputs": []
    },
    {
      "cell_type": "code",
      "metadata": {
        "id": "DeakC7MywG3O",
        "colab_type": "code",
        "colab": {
          "base_uri": "https://localhost:8080/",
          "height": 419
        },
        "outputId": "1da80aca-eeb9-48e8-91ee-01192c11a81f"
      },
      "source": [
        "df=pd.DataFrame(test_target, y_pred)\n",
        "df"
      ],
      "execution_count": 46,
      "outputs": [
        {
          "output_type": "execute_result",
          "data": {
            "text/html": [
              "<div>\n",
              "<style scoped>\n",
              "    .dataframe tbody tr th:only-of-type {\n",
              "        vertical-align: middle;\n",
              "    }\n",
              "\n",
              "    .dataframe tbody tr th {\n",
              "        vertical-align: top;\n",
              "    }\n",
              "\n",
              "    .dataframe thead th {\n",
              "        text-align: right;\n",
              "    }\n",
              "</style>\n",
              "<table border=\"1\" class=\"dataframe\">\n",
              "  <thead>\n",
              "    <tr style=\"text-align: right;\">\n",
              "      <th></th>\n",
              "      <th>fzn_or_liq</th>\n",
              "    </tr>\n",
              "  </thead>\n",
              "  <tbody>\n",
              "    <tr>\n",
              "      <th>0.682387</th>\n",
              "      <td>NaN</td>\n",
              "    </tr>\n",
              "    <tr>\n",
              "      <th>0.000000</th>\n",
              "      <td>NaN</td>\n",
              "    </tr>\n",
              "    <tr>\n",
              "      <th>0.000000</th>\n",
              "      <td>NaN</td>\n",
              "    </tr>\n",
              "    <tr>\n",
              "      <th>0.459723</th>\n",
              "      <td>NaN</td>\n",
              "    </tr>\n",
              "    <tr>\n",
              "      <th>0.730273</th>\n",
              "      <td>NaN</td>\n",
              "    </tr>\n",
              "    <tr>\n",
              "      <th>...</th>\n",
              "      <td>...</td>\n",
              "    </tr>\n",
              "    <tr>\n",
              "      <th>0.000000</th>\n",
              "      <td>NaN</td>\n",
              "    </tr>\n",
              "    <tr>\n",
              "      <th>0.000000</th>\n",
              "      <td>NaN</td>\n",
              "    </tr>\n",
              "    <tr>\n",
              "      <th>0.299764</th>\n",
              "      <td>NaN</td>\n",
              "    </tr>\n",
              "    <tr>\n",
              "      <th>0.459723</th>\n",
              "      <td>NaN</td>\n",
              "    </tr>\n",
              "    <tr>\n",
              "      <th>0.545402</th>\n",
              "      <td>NaN</td>\n",
              "    </tr>\n",
              "  </tbody>\n",
              "</table>\n",
              "<p>116838 rows × 1 columns</p>\n",
              "</div>"
            ],
            "text/plain": [
              "          fzn_or_liq\n",
              "0.682387         NaN\n",
              "0.000000         NaN\n",
              "0.000000         NaN\n",
              "0.459723         NaN\n",
              "0.730273         NaN\n",
              "...              ...\n",
              "0.000000         NaN\n",
              "0.000000         NaN\n",
              "0.299764         NaN\n",
              "0.459723         NaN\n",
              "0.545402         NaN\n",
              "\n",
              "[116838 rows x 1 columns]"
            ]
          },
          "metadata": {
            "tags": []
          },
          "execution_count": 46
        }
      ]
    }
  ]
}