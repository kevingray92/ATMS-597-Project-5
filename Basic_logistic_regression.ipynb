{
  "nbformat": 4,
  "nbformat_minor": 0,
  "metadata": {
    "colab": {
      "name": "Basic_logistic_regression.ipynb",
      "provenance": [],
      "collapsed_sections": []
    },
    "kernelspec": {
      "name": "python3",
      "display_name": "Python 3"
    }
  },
  "cells": [
    {
      "cell_type": "code",
      "metadata": {
        "id": "3NI77BZmdwp-",
        "colab_type": "code",
        "colab": {}
      },
      "source": [
        "!pip install metpy"
      ],
      "execution_count": 0,
      "outputs": []
    },
    {
      "cell_type": "code",
      "metadata": {
        "id": "XV7bQDubeBb9",
        "colab_type": "code",
        "colab": {}
      },
      "source": [
        "import numpy as np\n",
        "import pandas as pd\n",
        "from datetime import datetime\n",
        "import metpy\n",
        "import metpy.io"
      ],
      "execution_count": 0,
      "outputs": []
    },
    {
      "cell_type": "code",
      "metadata": {
        "id": "WCiTYOEJelRB",
        "colab_type": "code",
        "colab": {}
      },
      "source": [
        "###Download the METAR data\n",
        "!wget ftp://ftp.ncdc.noaa.gov/pub/data/asos-fivemin/6401-2000/64010KMSN200012.dat"
      ],
      "execution_count": 0,
      "outputs": []
    },
    {
      "cell_type": "code",
      "metadata": {
        "id": "UDJAWzLunniH",
        "colab_type": "code",
        "colab": {}
      },
      "source": [
        "###Read the METAR file. An error will result after the last line, but the data should be saved to the decoded_metar DataFrame.\n",
        "### OLD. Not flexible to skipping lines\n",
        "#month = 7\n",
        "#with open('64010KMSN200007.dat','r') as metar_file:\n",
        "#    metar_line = metar_file.readline()\n",
        "#    metar_line_clean = metar_line[53:] #Get rid of first 53 characters in each line, superfluous info\n",
        "#    decoded_metar = metpy.io.parse_metar_to_dataframe(metar_line_clean, year=2000, month=month) #decode the METAR\n",
        "#    decoded_metar = decoded_metar.set_index(keys='date_time')\n",
        "#    cnt = 1 #Start a counter\n",
        "#    while metar_line:\n",
        "#        metar_line = metar_file.readline()\n",
        "#        metar_line_clean = metar_line[53:]\n",
        "#        decoded_metar_line = metpy.io.parse_metar_to_dataframe(metar_line_clean, year=2000, month=month)\n",
        "#        decoded_metar_line = decoded_metar_line.set_index(keys='date_time')\n",
        "#        decoded_metar = decoded_metar.append(decoded_metar_line)\n",
        "#        decoded_metar\n",
        "#        cnt = cnt+1"
      ],
      "execution_count": 0,
      "outputs": []
    },
    {
      "cell_type": "code",
      "metadata": {
        "id": "VLQOeYLKHktt",
        "colab_type": "code",
        "colab": {}
      },
      "source": [
        "###Read the METAR file. An error will result after the last line, but the data should be saved to the decoded_metar DataFrame.\n",
        "###NEW. Will skip any lines that the parser doesn't like.\n",
        "month = 12\n",
        "with open('64010KMSN200012.dat','r') as metar_file:\n",
        "    metar_line = metar_file.readline()\n",
        "    metar_line_clean = metar_line[53:] #Get rid of first 53 characters in each line, superfluous info\n",
        "    decoded_metar = metpy.io.parse_metar_to_dataframe(metar_line_clean, year=2000, month=month) #decode the METAR\n",
        "    decoded_metar = decoded_metar.set_index(keys='date_time')\n",
        "    cnt = 1 #Start a counter\n",
        "    while metar_line:\n",
        "        try:\n",
        "            metar_line = metar_file.readline()\n",
        "            metar_line_clean = metar_line[53:]\n",
        "            decoded_metar_line = metpy.io.parse_metar_to_dataframe(metar_line_clean, year=2000, month=month)\n",
        "            decoded_metar_line = decoded_metar_line.set_index(keys='date_time')\n",
        "            decoded_metar = decoded_metar.append(decoded_metar_line)\n",
        "            decoded_metar\n",
        "            cnt = cnt+1\n",
        "        except:\n",
        "            print(\"Skipping this entry...\")"
      ],
      "execution_count": 0,
      "outputs": []
    },
    {
      "cell_type": "code",
      "metadata": {
        "id": "tP_2PLVG5_La",
        "colab_type": "code",
        "colab": {}
      },
      "source": [
        "decoded_metar\n",
        "#decoded_metar.tail(14)"
      ],
      "execution_count": 0,
      "outputs": []
    },
    {
      "cell_type": "code",
      "metadata": {
        "id": "K1IAskCCsXUB",
        "colab_type": "code",
        "colab": {}
      },
      "source": [
        "##Standard adjustment\n",
        "df2 = decoded_metar.iloc[[-72]]\n",
        "number_of_lines_to_fix = np.arange(71)\n",
        "for i in number_of_lines_to_fix:\n",
        "    i = 71-i\n",
        "    df2 = df2.append(decoded_metar.iloc[[-i]])\n",
        "df2\n",
        "\n",
        "##Manual adjustment\n",
        "#df2 = decoded_metar.iloc[[-14]]\n",
        "#number_of_lines_to_fix = np.arange(13)\n",
        "#for i in number_of_lines_to_fix:\n",
        "#    i = 13-i\n",
        "#    df2 = df2.append(decoded_metar.iloc[[-i]])\n",
        "#df2"
      ],
      "execution_count": 0,
      "outputs": []
    },
    {
      "cell_type": "code",
      "metadata": {
        "id": "yyoYiSS_xz9d",
        "colab_type": "code",
        "colab": {}
      },
      "source": [
        "df2.index = df2.index + pd.DateOffset(months = 1)\n",
        "df2"
      ],
      "execution_count": 0,
      "outputs": []
    },
    {
      "cell_type": "code",
      "metadata": {
        "id": "5gobSMjfyW6w",
        "colab_type": "code",
        "colab": {}
      },
      "source": [
        "##Standard drop\n",
        "decoded_metar.drop(decoded_metar.tail(72).index,inplace=True)\n",
        "decoded_metar\n",
        "\n",
        "##Manual drop\n",
        "#decoded_metar.drop(decoded_metar.tail(14).index,inplace=True)\n",
        "#decoded_metar"
      ],
      "execution_count": 0,
      "outputs": []
    },
    {
      "cell_type": "code",
      "metadata": {
        "id": "E2bIdhoky3MB",
        "colab_type": "code",
        "colab": {}
      },
      "source": [
        "decoded_metar = decoded_metar.append(df2)\n",
        "decoded_metar"
      ],
      "execution_count": 0,
      "outputs": []
    },
    {
      "cell_type": "code",
      "metadata": {
        "id": "_tbZpunkzGcM",
        "colab_type": "code",
        "colab": {}
      },
      "source": [
        "##Standard check\n",
        "decoded_metar.iloc[[-72]]\n",
        "\n",
        "##Manual check\n",
        "#decoded_metar.iloc[[-14]]"
      ],
      "execution_count": 0,
      "outputs": []
    },
    {
      "cell_type": "code",
      "metadata": {
        "id": "EHdOAhWfzLaD",
        "colab_type": "code",
        "colab": {}
      },
      "source": [
        "#Run once to get decoded_matar_master dataframe started\n",
        "decoded_metar_master = decoded_metar"
      ],
      "execution_count": 0,
      "outputs": []
    },
    {
      "cell_type": "code",
      "metadata": {
        "id": "tNd5-iMS0HkW",
        "colab_type": "code",
        "colab": {}
      },
      "source": [
        "decoded_metar_master = decoded_metar_master.append(decoded_metar)"
      ],
      "execution_count": 0,
      "outputs": []
    },
    {
      "cell_type": "code",
      "metadata": {
        "id": "2FJIVp4F2R08",
        "colab_type": "code",
        "colab": {}
      },
      "source": [
        "decoded_metar_master"
      ],
      "execution_count": 0,
      "outputs": []
    },
    {
      "cell_type": "code",
      "metadata": {
        "id": "Sxwl0LpY2Tff",
        "colab_type": "code",
        "colab": {}
      },
      "source": [
        "#decoded_metar_master.to_csv('drive/My Drive/decoded_metar_master_through05.csv')\n",
        "decoded_metar_master.to_csv('drive/My Drive/decoded_metar_master.csv')"
      ],
      "execution_count": 0,
      "outputs": []
    },
    {
      "cell_type": "code",
      "metadata": {
        "id": "dHLwEigusO1x",
        "colab_type": "code",
        "colab": {}
      },
      "source": [
        "from google.colab import drive\n",
        "drive.mount('/content/drive')"
      ],
      "execution_count": 0,
      "outputs": []
    },
    {
      "cell_type": "code",
      "metadata": {
        "id": "66JO1rmKZvyq",
        "colab_type": "code",
        "colab": {}
      },
      "source": [
        "###For when you mess up\n",
        "#decoded_metar_master_through05 = pd.read_csv('drive/My Drive/decoded_metar_master_through05.csv')\n",
        "#decoded_metar_master_through05 = decoded_metar_master_through05.set_index(keys='date_time')\n",
        "#decoded_metar_master_through05\n",
        "#decoded_metar_master = decoded_metar_master_through05"
      ],
      "execution_count": 0,
      "outputs": []
    },
    {
      "cell_type": "code",
      "metadata": {
        "id": "KvCZlNYJ1SLY",
        "colab_type": "code",
        "colab": {}
      },
      "source": [
        "# Remove non-precipitation current weather by replacing with nan values and only keeping the non-nan values\n",
        "decoded_metar_master.replace('HZ', np.nan, inplace=True)\n",
        "decoded_metar_master.replace('MIFG', np.nan, inplace=True)\n",
        "decoded_metar_master.replace('BCFG', np.nan, inplace=True)\n",
        "decoded_metar_master.replace('PRFG', np.nan, inplace=True)\n",
        "decoded_metar_master.replace('FG', np.nan, inplace=True)\n",
        "decoded_metar_master.replace('FU', np.nan, inplace=True)\n",
        "decoded_metar_master.replace('BR', np.nan, inplace=True)\n",
        "decoded_metar_master.replace('FRFG', np.nan, inplace=True)\n",
        "decoded_metar_master.replace('BLSN', np.nan, inplace=True)\n",
        "decoded_metar_precip_only = decoded_metar_master[decoded_metar_master['current_wx1'].notna()]\n",
        "decoded_metar_precip_only"
      ],
      "execution_count": 0,
      "outputs": []
    },
    {
      "cell_type": "code",
      "metadata": {
        "id": "OFdS5mGEEgsj",
        "colab_type": "code",
        "colab": {}
      },
      "source": [
        "# Create binary precip type data\n",
        "\n",
        "\n",
        "# Create definition to apply labels of 1 for frozen precipitation and 0 for liquid precipitation\n",
        "def label_precip (row):\n",
        "    if row['current_wx1'] == '-RA' :\n",
        "        return '0'\n",
        "    if row['current_wx1'] == 'RA' :\n",
        "        return '0'\n",
        "    if row['current_wx1'] == '+RA' :\n",
        "        return '0'\n",
        "    if row['current_wx1'] == 'DZ' :\n",
        "        return '0'\n",
        "    if row['current_wx1'] == '-RA' :\n",
        "        return '0'\n",
        "    if row['current_wx1'] == '-TSRA' :\n",
        "        return '0'\n",
        "    if row['current_wx1'] == 'TSRA' :\n",
        "        return '0'\n",
        "    if row['current_wx1'] == '+TSRA' :\n",
        "        return '0'\n",
        "    if row['current_wx1'] == 'FZDZ' :\n",
        "        return '1'\n",
        "    if row['current_wx1'] == 'FZRA' :\n",
        "        return '1'\n",
        "    if row['current_wx1'] == '-SN' :\n",
        "        return '1'\n",
        "    if row['current_wx1'] == 'SN' :\n",
        "        return '1'\n",
        "    if row['current_wx1'] == '+SN' :\n",
        "        return '1'\n",
        "    if row['current_wx1'] == '-TSSN' :\n",
        "        return '1'\n",
        "    if row['current_wx1'] == 'TSSN' :\n",
        "        return '1'\n",
        "    if row['current_wx1'] == '+TSSN' :\n",
        "        return '1'\n",
        "    if row['current_wx1'] == '-SG' :\n",
        "        return '1'\n",
        "    if row['current_wx1'] == 'SG' :\n",
        "        return '1'\n",
        "    if row['current_wx1'] == '+SG' :\n",
        "        return '1'\n",
        "    if row['current_wx1'] == 'IC' :\n",
        "        return '1'\n",
        "    if row['current_wx1'] == '-PL' :\n",
        "        return '1'\n",
        "    if row['current_wx1'] == 'PL' :\n",
        "        return '1'\n",
        "    if row['current_wx1'] == '+PL' :\n",
        "        return '1'\n",
        "    else:\n",
        "        return 'other'\n",
        "\n",
        "# Apply the binary process to the asos dataframe\n",
        "#decoded_metar_precip_only.apply (lambda row: label_precip(row), axis=1)\n",
        "\n",
        "# Add the binary data column to the master dataframe\n",
        "decoded_metar_precip_only['precip_type'] = decoded_metar_precip_only.apply (lambda row: label_precip(row), axis=1)\n",
        "decoded_metar_precip_only\n"
      ],
      "execution_count": 0,
      "outputs": []
    },
    {
      "cell_type": "code",
      "metadata": {
        "id": "zv6OmUdwsB4N",
        "colab_type": "code",
        "colab": {}
      },
      "source": [
        "from sklearn.model_selection import train_test_split"
      ],
      "execution_count": 0,
      "outputs": []
    },
    {
      "cell_type": "code",
      "metadata": {
        "id": "au1cAw5i3K7d",
        "colab_type": "code",
        "colab": {}
      },
      "source": [
        "# Separate into predictor and target variables\n",
        "predictor_cols = ['wind_direction', 'wind_speed', 'current_wx1', 'low_cloud_type', 'low_cloud_level', 'medium_cloud_type', 'medium_cloud_level', 'high_cloud_type', 'high_cloud_level', 'highest_cloud_type', 'highest_cloud_level', 'cloud_coverage', 'air_temperature', 'dew_point_temperature', 'altimeter', 'present_weather', 'past_weather', 'air_pressure_at_sea_level', 'eastward_wind', 'northward_wind']\n",
        "X = decoded_metar_precip_only[predictor_cols]\n",
        "Y = decoded_metar_precip_only.precip_type\n",
        "X_train, X_test, Y_train, Y_test = train_test_split(X, Y, test_size=0.3)"
      ],
      "execution_count": 0,
      "outputs": []
    },
    {
      "cell_type": "code",
      "metadata": {
        "id": "7_SQp1qe424C",
        "colab_type": "code",
        "colab": {}
      },
      "source": [
        "from sklearn.linear_model import LogisticRegression"
      ],
      "execution_count": 0,
      "outputs": []
    },
    {
      "cell_type": "code",
      "metadata": {
        "id": "pT91nDEru1y3",
        "colab_type": "code",
        "colab": {}
      },
      "source": [
        "# Initiate the model using the default parameters\n",
        "logreg = LogisticRegression()\n",
        "\n",
        "# Fit the model\n",
        "logreg.fit(X_train,Y_train)\n",
        "\n",
        "# Predictions\n",
        "ptype_predict=logreg.predict(X_test)"
      ],
      "execution_count": 0,
      "outputs": []
    },
    {
      "cell_type": "code",
      "metadata": {
        "id": "IwW4zPRuvtgG",
        "colab_type": "code",
        "colab": {}
      },
      "source": [
        "# Check skill with confusion matrix\n",
        "from sklearn import metrics\n",
        "cnf_matrix = metrics.confusion_matrix(y_test, y_pred)\n",
        "cnf_matrix"
      ],
      "execution_count": 0,
      "outputs": []
    },
    {
      "cell_type": "code",
      "metadata": {
        "id": "29sFvXgHv9ZL",
        "colab_type": "code",
        "colab": {}
      },
      "source": [
        "# Plot confusion matrix\n",
        "\n",
        "import numpy as np\n",
        "import matplotlib.pyplot as plt\n",
        "import seaborn as sns\n",
        "%matplotlib inline\n",
        "\n",
        "class_names=[0,1] # name  of classes\n",
        "fig, ax = plt.subplots()\n",
        "tick_marks = np.arange(len(class_names))\n",
        "plt.xticks(tick_marks, class_names)\n",
        "plt.yticks(tick_marks, class_names)\n",
        "# create heatmap\n",
        "sns.heatmap(pd.DataFrame(cnf_matrix), annot=True, cmap=\"YlGnBu\" ,fmt='g')\n",
        "ax.xaxis.set_label_position(\"top\")\n",
        "plt.tight_layout()\n",
        "plt.title('Confusion matrix', y=1.1)\n",
        "plt.ylabel('Actual label')\n",
        "plt.xlabel('Predicted label')"
      ],
      "execution_count": 0,
      "outputs": []
    }
  ]
}