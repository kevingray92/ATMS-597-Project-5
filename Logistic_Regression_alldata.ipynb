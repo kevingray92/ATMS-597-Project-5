{
  "nbformat": 4,
  "nbformat_minor": 0,
  "metadata": {
    "colab": {
      "name": "Logistic_Regression_alldata.ipynb",
      "provenance": [],
      "collapsed_sections": [],
      "mount_file_id": "1sLhvsBp2kXOJrdFNYWZ8BiMqgyj7jR-a",
      "authorship_tag": "ABX9TyP06HkR4aq63IvSwNiFdpl0",
      "include_colab_link": true
    },
    "kernelspec": {
      "name": "python3",
      "display_name": "Python 3"
    }
  },
  "cells": [
    {
      "cell_type": "markdown",
      "metadata": {
        "id": "view-in-github",
        "colab_type": "text"
      },
      "source": [
        "<a href=\"https://colab.research.google.com/github/kevingray92/ATMS-597-Project-5/blob/all_data/Logistic_Regression_alldata.ipynb\" target=\"_parent\"><img src=\"https://colab.research.google.com/assets/colab-badge.svg\" alt=\"Open In Colab\"/></a>"
      ]
    },
    {
      "cell_type": "code",
      "metadata": {
        "id": "JXsE2Oc239jd",
        "colab_type": "code",
        "colab": {}
      },
      "source": [
        "import numpy as np\n",
        "import pandas as pd\n",
        "from datetime import datetime"
      ],
      "execution_count": 0,
      "outputs": []
    },
    {
      "cell_type": "code",
      "metadata": {
        "id": "y-Xm9VvA4N7o",
        "colab_type": "code",
        "outputId": "9d1d824f-9039-418e-cad6-c5e1a21b9a94",
        "colab": {
          "base_uri": "https://localhost:8080/",
          "height": 72
        }
      },
      "source": [
        "### Read one year data file\n",
        "#decoded_metar_master = pd.read_csv('/content/drive/My Drive/decoded_metar_master.csv')\n",
        "\n",
        "### Read all years data file\n",
        "filename = '/content/drive/My Drive/Colab Notebooks/ATMS-597/Project05/decoded_metar_dataset.csv'\n",
        "decoded_metar_master = pd.read_csv(filename,dtype={'current_wx1':str})"
      ],
      "execution_count": 11,
      "outputs": [
        {
          "output_type": "stream",
          "text": [
            "/usr/local/lib/python3.6/dist-packages/IPython/core/interactiveshell.py:2718: DtypeWarning: Columns (10,17) have mixed types.Specify dtype option on import or set low_memory=False.\n",
            "  interactivity=interactivity, compiler=compiler, result=result)\n"
          ],
          "name": "stderr"
        }
      ]
    },
    {
      "cell_type": "code",
      "metadata": {
        "id": "rQ8pboP97fb8",
        "colab_type": "code",
        "colab": {
          "base_uri": "https://localhost:8080/",
          "height": 782
        },
        "outputId": "33d397cb-0e36-4a63-a96f-df0662f8906b"
      },
      "source": [
        "#decoded_metar_master['current_wx1'].unique\n",
        "decoded_metar_master"
      ],
      "execution_count": 12,
      "outputs": [
        {
          "output_type": "execute_result",
          "data": {
            "text/html": [
              "<div>\n",
              "<style scoped>\n",
              "    .dataframe tbody tr th:only-of-type {\n",
              "        vertical-align: middle;\n",
              "    }\n",
              "\n",
              "    .dataframe tbody tr th {\n",
              "        vertical-align: top;\n",
              "    }\n",
              "\n",
              "    .dataframe thead th {\n",
              "        text-align: right;\n",
              "    }\n",
              "</style>\n",
              "<table border=\"1\" class=\"dataframe\">\n",
              "  <thead>\n",
              "    <tr style=\"text-align: right;\">\n",
              "      <th></th>\n",
              "      <th>date_time</th>\n",
              "      <th>station_id</th>\n",
              "      <th>latitude</th>\n",
              "      <th>longitude</th>\n",
              "      <th>elevation</th>\n",
              "      <th>date_time.1</th>\n",
              "      <th>wind_direction</th>\n",
              "      <th>wind_speed</th>\n",
              "      <th>current_wx1</th>\n",
              "      <th>current_wx2</th>\n",
              "      <th>current_wx3</th>\n",
              "      <th>low_cloud_type</th>\n",
              "      <th>low_cloud_level</th>\n",
              "      <th>medium_cloud_type</th>\n",
              "      <th>medium_cloud_level</th>\n",
              "      <th>high_cloud_type</th>\n",
              "      <th>high_cloud_level</th>\n",
              "      <th>highest_cloud_type</th>\n",
              "      <th>highest_cloud_level</th>\n",
              "      <th>cloud_coverage</th>\n",
              "      <th>air_temperature</th>\n",
              "      <th>dew_point_temperature</th>\n",
              "      <th>altimeter</th>\n",
              "      <th>present_weather</th>\n",
              "      <th>past_weather</th>\n",
              "      <th>past_weather2</th>\n",
              "      <th>air_pressure_at_sea_level</th>\n",
              "      <th>eastward_wind</th>\n",
              "      <th>northward_wind</th>\n",
              "    </tr>\n",
              "  </thead>\n",
              "  <tbody>\n",
              "    <tr>\n",
              "      <th>0</th>\n",
              "      <td>2000-01-01 00:50:00</td>\n",
              "      <td>KMSN</td>\n",
              "      <td>43.13</td>\n",
              "      <td>-89.35</td>\n",
              "      <td>261</td>\n",
              "      <td>2000-01-01 00:50:00</td>\n",
              "      <td>NaN</td>\n",
              "      <td>5.0</td>\n",
              "      <td>-SN</td>\n",
              "      <td>NaN</td>\n",
              "      <td>NaN</td>\n",
              "      <td>FEW</td>\n",
              "      <td>2000.0</td>\n",
              "      <td>OVC</td>\n",
              "      <td>2700.0</td>\n",
              "      <td>NaN</td>\n",
              "      <td>NaN</td>\n",
              "      <td>NaN</td>\n",
              "      <td>NaN</td>\n",
              "      <td>8</td>\n",
              "      <td>-6.0</td>\n",
              "      <td>-9.0</td>\n",
              "      <td>29.92</td>\n",
              "      <td>71</td>\n",
              "      <td>0</td>\n",
              "      <td>0</td>\n",
              "      <td>NaN</td>\n",
              "      <td>NaN</td>\n",
              "      <td>NaN</td>\n",
              "    </tr>\n",
              "    <tr>\n",
              "      <th>1</th>\n",
              "      <td>2000-01-01 00:55:00</td>\n",
              "      <td>KMSN</td>\n",
              "      <td>43.13</td>\n",
              "      <td>-89.35</td>\n",
              "      <td>261</td>\n",
              "      <td>2000-01-01 00:55:00</td>\n",
              "      <td>320.0</td>\n",
              "      <td>6.0</td>\n",
              "      <td>-SN</td>\n",
              "      <td>NaN</td>\n",
              "      <td>NaN</td>\n",
              "      <td>BKN</td>\n",
              "      <td>2700.0</td>\n",
              "      <td>OVC</td>\n",
              "      <td>3300.0</td>\n",
              "      <td>NaN</td>\n",
              "      <td>NaN</td>\n",
              "      <td>NaN</td>\n",
              "      <td>NaN</td>\n",
              "      <td>8</td>\n",
              "      <td>-6.0</td>\n",
              "      <td>-9.0</td>\n",
              "      <td>29.92</td>\n",
              "      <td>71</td>\n",
              "      <td>0</td>\n",
              "      <td>0</td>\n",
              "      <td>NaN</td>\n",
              "      <td>3.856726</td>\n",
              "      <td>-4.596267</td>\n",
              "    </tr>\n",
              "    <tr>\n",
              "      <th>2</th>\n",
              "      <td>2000-01-01 01:00:00</td>\n",
              "      <td>KMSN</td>\n",
              "      <td>43.13</td>\n",
              "      <td>-89.35</td>\n",
              "      <td>261</td>\n",
              "      <td>2000-01-01 01:00:00</td>\n",
              "      <td>340.0</td>\n",
              "      <td>7.0</td>\n",
              "      <td>-SN</td>\n",
              "      <td>NaN</td>\n",
              "      <td>NaN</td>\n",
              "      <td>SCT</td>\n",
              "      <td>2700.0</td>\n",
              "      <td>OVC</td>\n",
              "      <td>3300.0</td>\n",
              "      <td>NaN</td>\n",
              "      <td>NaN</td>\n",
              "      <td>NaN</td>\n",
              "      <td>NaN</td>\n",
              "      <td>8</td>\n",
              "      <td>-5.0</td>\n",
              "      <td>-9.0</td>\n",
              "      <td>29.92</td>\n",
              "      <td>71</td>\n",
              "      <td>0</td>\n",
              "      <td>0</td>\n",
              "      <td>NaN</td>\n",
              "      <td>2.394141</td>\n",
              "      <td>-6.577848</td>\n",
              "    </tr>\n",
              "    <tr>\n",
              "      <th>3</th>\n",
              "      <td>2000-01-01 01:05:00</td>\n",
              "      <td>KMSN</td>\n",
              "      <td>43.13</td>\n",
              "      <td>-89.35</td>\n",
              "      <td>261</td>\n",
              "      <td>2000-01-01 01:05:00</td>\n",
              "      <td>330.0</td>\n",
              "      <td>10.0</td>\n",
              "      <td>-SN</td>\n",
              "      <td>NaN</td>\n",
              "      <td>NaN</td>\n",
              "      <td>SCT</td>\n",
              "      <td>2700.0</td>\n",
              "      <td>OVC</td>\n",
              "      <td>3300.0</td>\n",
              "      <td>NaN</td>\n",
              "      <td>NaN</td>\n",
              "      <td>NaN</td>\n",
              "      <td>NaN</td>\n",
              "      <td>8</td>\n",
              "      <td>-5.0</td>\n",
              "      <td>-10.0</td>\n",
              "      <td>29.92</td>\n",
              "      <td>71</td>\n",
              "      <td>0</td>\n",
              "      <td>0</td>\n",
              "      <td>NaN</td>\n",
              "      <td>5.000000</td>\n",
              "      <td>-8.660254</td>\n",
              "    </tr>\n",
              "    <tr>\n",
              "      <th>4</th>\n",
              "      <td>2000-01-01 01:10:00</td>\n",
              "      <td>KMSN</td>\n",
              "      <td>43.13</td>\n",
              "      <td>-89.35</td>\n",
              "      <td>261</td>\n",
              "      <td>2000-01-01 01:10:00</td>\n",
              "      <td>320.0</td>\n",
              "      <td>8.0</td>\n",
              "      <td>-SN</td>\n",
              "      <td>NaN</td>\n",
              "      <td>NaN</td>\n",
              "      <td>FEW</td>\n",
              "      <td>2700.0</td>\n",
              "      <td>OVC</td>\n",
              "      <td>3300.0</td>\n",
              "      <td>NaN</td>\n",
              "      <td>NaN</td>\n",
              "      <td>NaN</td>\n",
              "      <td>NaN</td>\n",
              "      <td>8</td>\n",
              "      <td>-6.0</td>\n",
              "      <td>-10.0</td>\n",
              "      <td>29.93</td>\n",
              "      <td>71</td>\n",
              "      <td>0</td>\n",
              "      <td>0</td>\n",
              "      <td>NaN</td>\n",
              "      <td>5.142301</td>\n",
              "      <td>-6.128356</td>\n",
              "    </tr>\n",
              "    <tr>\n",
              "      <th>...</th>\n",
              "      <td>...</td>\n",
              "      <td>...</td>\n",
              "      <td>...</td>\n",
              "      <td>...</td>\n",
              "      <td>...</td>\n",
              "      <td>...</td>\n",
              "      <td>...</td>\n",
              "      <td>...</td>\n",
              "      <td>...</td>\n",
              "      <td>...</td>\n",
              "      <td>...</td>\n",
              "      <td>...</td>\n",
              "      <td>...</td>\n",
              "      <td>...</td>\n",
              "      <td>...</td>\n",
              "      <td>...</td>\n",
              "      <td>...</td>\n",
              "      <td>...</td>\n",
              "      <td>...</td>\n",
              "      <td>...</td>\n",
              "      <td>...</td>\n",
              "      <td>...</td>\n",
              "      <td>...</td>\n",
              "      <td>...</td>\n",
              "      <td>...</td>\n",
              "      <td>...</td>\n",
              "      <td>...</td>\n",
              "      <td>...</td>\n",
              "      <td>...</td>\n",
              "    </tr>\n",
              "    <tr>\n",
              "      <th>412969</th>\n",
              "      <td>2019-12-31 15:25:00</td>\n",
              "      <td>KMSN</td>\n",
              "      <td>43.13</td>\n",
              "      <td>-89.35</td>\n",
              "      <td>261</td>\n",
              "      <td>2019-12-31 15:25:00</td>\n",
              "      <td>300.0</td>\n",
              "      <td>8.0</td>\n",
              "      <td>-SN</td>\n",
              "      <td>NaN</td>\n",
              "      <td>NaN</td>\n",
              "      <td>OVC</td>\n",
              "      <td>1800.0</td>\n",
              "      <td>NaN</td>\n",
              "      <td>NaN</td>\n",
              "      <td>NaN</td>\n",
              "      <td>NaN</td>\n",
              "      <td>NaN</td>\n",
              "      <td>NaN</td>\n",
              "      <td>8</td>\n",
              "      <td>-4.0</td>\n",
              "      <td>-8.0</td>\n",
              "      <td>29.69</td>\n",
              "      <td>71</td>\n",
              "      <td>0</td>\n",
              "      <td>0</td>\n",
              "      <td>NaN</td>\n",
              "      <td>6.928203</td>\n",
              "      <td>-4.000000</td>\n",
              "    </tr>\n",
              "    <tr>\n",
              "      <th>412970</th>\n",
              "      <td>2019-12-31 15:30:00</td>\n",
              "      <td>KMSN</td>\n",
              "      <td>43.13</td>\n",
              "      <td>-89.35</td>\n",
              "      <td>261</td>\n",
              "      <td>2019-12-31 15:30:00</td>\n",
              "      <td>300.0</td>\n",
              "      <td>9.0</td>\n",
              "      <td>-SN</td>\n",
              "      <td>NaN</td>\n",
              "      <td>NaN</td>\n",
              "      <td>OVC</td>\n",
              "      <td>1800.0</td>\n",
              "      <td>NaN</td>\n",
              "      <td>NaN</td>\n",
              "      <td>NaN</td>\n",
              "      <td>NaN</td>\n",
              "      <td>NaN</td>\n",
              "      <td>NaN</td>\n",
              "      <td>8</td>\n",
              "      <td>-4.0</td>\n",
              "      <td>-8.0</td>\n",
              "      <td>29.69</td>\n",
              "      <td>71</td>\n",
              "      <td>0</td>\n",
              "      <td>0</td>\n",
              "      <td>NaN</td>\n",
              "      <td>7.794229</td>\n",
              "      <td>-4.500000</td>\n",
              "    </tr>\n",
              "    <tr>\n",
              "      <th>412971</th>\n",
              "      <td>2019-12-31 15:35:00</td>\n",
              "      <td>KMSN</td>\n",
              "      <td>43.13</td>\n",
              "      <td>-89.35</td>\n",
              "      <td>261</td>\n",
              "      <td>2019-12-31 15:35:00</td>\n",
              "      <td>300.0</td>\n",
              "      <td>8.0</td>\n",
              "      <td>-SN</td>\n",
              "      <td>NaN</td>\n",
              "      <td>NaN</td>\n",
              "      <td>OVC</td>\n",
              "      <td>1800.0</td>\n",
              "      <td>NaN</td>\n",
              "      <td>NaN</td>\n",
              "      <td>NaN</td>\n",
              "      <td>NaN</td>\n",
              "      <td>NaN</td>\n",
              "      <td>NaN</td>\n",
              "      <td>8</td>\n",
              "      <td>-4.0</td>\n",
              "      <td>-8.0</td>\n",
              "      <td>29.69</td>\n",
              "      <td>71</td>\n",
              "      <td>0</td>\n",
              "      <td>0</td>\n",
              "      <td>NaN</td>\n",
              "      <td>6.928203</td>\n",
              "      <td>-4.000000</td>\n",
              "    </tr>\n",
              "    <tr>\n",
              "      <th>412972</th>\n",
              "      <td>2019-12-31 15:40:00</td>\n",
              "      <td>KMSN</td>\n",
              "      <td>43.13</td>\n",
              "      <td>-89.35</td>\n",
              "      <td>261</td>\n",
              "      <td>2019-12-31 15:40:00</td>\n",
              "      <td>290.0</td>\n",
              "      <td>10.0</td>\n",
              "      <td>-SN</td>\n",
              "      <td>NaN</td>\n",
              "      <td>NaN</td>\n",
              "      <td>OVC</td>\n",
              "      <td>1800.0</td>\n",
              "      <td>NaN</td>\n",
              "      <td>NaN</td>\n",
              "      <td>NaN</td>\n",
              "      <td>NaN</td>\n",
              "      <td>NaN</td>\n",
              "      <td>NaN</td>\n",
              "      <td>8</td>\n",
              "      <td>-4.0</td>\n",
              "      <td>-8.0</td>\n",
              "      <td>29.69</td>\n",
              "      <td>71</td>\n",
              "      <td>0</td>\n",
              "      <td>0</td>\n",
              "      <td>NaN</td>\n",
              "      <td>9.396926</td>\n",
              "      <td>-3.420201</td>\n",
              "    </tr>\n",
              "    <tr>\n",
              "      <th>412973</th>\n",
              "      <td>2019-12-31 15:45:00</td>\n",
              "      <td>KMSN</td>\n",
              "      <td>43.13</td>\n",
              "      <td>-89.35</td>\n",
              "      <td>261</td>\n",
              "      <td>2019-12-31 15:45:00</td>\n",
              "      <td>290.0</td>\n",
              "      <td>6.0</td>\n",
              "      <td>-SN</td>\n",
              "      <td>NaN</td>\n",
              "      <td>NaN</td>\n",
              "      <td>OVC</td>\n",
              "      <td>1800.0</td>\n",
              "      <td>NaN</td>\n",
              "      <td>NaN</td>\n",
              "      <td>NaN</td>\n",
              "      <td>NaN</td>\n",
              "      <td>NaN</td>\n",
              "      <td>NaN</td>\n",
              "      <td>8</td>\n",
              "      <td>-4.0</td>\n",
              "      <td>-7.0</td>\n",
              "      <td>29.69</td>\n",
              "      <td>71</td>\n",
              "      <td>0</td>\n",
              "      <td>0</td>\n",
              "      <td>NaN</td>\n",
              "      <td>5.638156</td>\n",
              "      <td>-2.052121</td>\n",
              "    </tr>\n",
              "  </tbody>\n",
              "</table>\n",
              "<p>412974 rows × 29 columns</p>\n",
              "</div>"
            ],
            "text/plain": [
              "                  date_time station_id  ...  eastward_wind  northward_wind\n",
              "0       2000-01-01 00:50:00       KMSN  ...            NaN             NaN\n",
              "1       2000-01-01 00:55:00       KMSN  ...       3.856726       -4.596267\n",
              "2       2000-01-01 01:00:00       KMSN  ...       2.394141       -6.577848\n",
              "3       2000-01-01 01:05:00       KMSN  ...       5.000000       -8.660254\n",
              "4       2000-01-01 01:10:00       KMSN  ...       5.142301       -6.128356\n",
              "...                     ...        ...  ...            ...             ...\n",
              "412969  2019-12-31 15:25:00       KMSN  ...       6.928203       -4.000000\n",
              "412970  2019-12-31 15:30:00       KMSN  ...       7.794229       -4.500000\n",
              "412971  2019-12-31 15:35:00       KMSN  ...       6.928203       -4.000000\n",
              "412972  2019-12-31 15:40:00       KMSN  ...       9.396926       -3.420201\n",
              "412973  2019-12-31 15:45:00       KMSN  ...       5.638156       -2.052121\n",
              "\n",
              "[412974 rows x 29 columns]"
            ]
          },
          "metadata": {
            "tags": []
          },
          "execution_count": 12
        }
      ]
    },
    {
      "cell_type": "code",
      "metadata": {
        "id": "QWA-JFhW440r",
        "colab_type": "code",
        "colab": {}
      },
      "source": [
        "#decoded_metar_master = decoded_metar_master.dropna(axis=0, subset=['current_wx1','air_temperature'])\n",
        "\n",
        "## Drop columns we don't plan on using or have too many NaNs\n",
        "decoded_metar_master = decoded_metar_master.drop(['low_cloud_type',\t'low_cloud_level',\t'medium_cloud_type',\t'medium_cloud_level',\t'high_cloud_type',\t'high_cloud_level',\t'highest_cloud_type',\t'highest_cloud_level',\t'cloud_coverage', 'air_pressure_at_sea_level'], axis=1)\n",
        "\n",
        "#decoded_metar_master = decoded_metar_master.dropna(axis=0)"
      ],
      "execution_count": 0,
      "outputs": []
    },
    {
      "cell_type": "code",
      "metadata": {
        "id": "uf3J07Ky5gjd",
        "colab_type": "code",
        "outputId": "6037729c-a8c9-4bbb-8ed2-335213b1cc02",
        "colab": {
          "base_uri": "https://localhost:8080/",
          "height": 107
        }
      },
      "source": [
        "#convert current_wx columns to list and also check how many rows we have \n",
        "current_wx1 = decoded_metar_master['current_wx1'].to_list()\n",
        "print(len(current_wx1))\n",
        "current_wx2 = decoded_metar_master['current_wx2'].to_list()\n",
        "print(len(current_wx2))\n",
        "current_wx3 = decoded_metar_master['current_wx3'].to_list()\n",
        "print(len(current_wx3))\n",
        "\n",
        "#Check to make sure we have some frozen AND liquid weather reported\n",
        "print(current_wx1[0:50])"
      ],
      "execution_count": 14,
      "outputs": [
        {
          "output_type": "stream",
          "text": [
            "412974\n",
            "412974\n",
            "412974\n",
            "['-SN', '-SN', '-SN', '-SN', '-SN', '-SN', '-SN', '-SN', '-SN', '-SN', '-SN', '-SN', '-SN', '-SN', '-SN', '-SN', '-SN', '-SN', '-SN', '-SN', '-SN', '-SN', '-SN', '-SN', '-SN', '-SN', '-SN', '-SN', '-SN', '-SN', '-SN', '-SN', '-SN', '-SN', '-SN', '-SN', 'HZ', '-SN', '-SN', '-SN', '-RA', '-RA', '-RA', 'RA', '-RA', '-RA', '-RA', 'BR', 'BR', 'BR']\n"
          ],
          "name": "stdout"
        }
      ]
    },
    {
      "cell_type": "code",
      "metadata": {
        "id": "T8ynF6ZW_4NH",
        "colab_type": "code",
        "colab": {}
      },
      "source": [
        "### List of frozen and liquid precip options\n",
        "fzn_list = ['-SNRA','SNRA','+SNRA','-SN','SN','+SN','-FZDZ','FZDZ','+FZDZ','-FZRA','FZRA','+FZRA','-FZFG','FZFG','+FZFG','-IC','IC','+IC','-GR','GR','GR','-SG','SG','+SG','-PL','PL','+PL']\n",
        "liq_list = ['-RA','RA','+RA','-BR','BR','+BR','-TS','TS','+TS','-TSRA','TSRA','+TSRA']"
      ],
      "execution_count": 0,
      "outputs": []
    },
    {
      "cell_type": "code",
      "metadata": {
        "id": "WSGi0d5SCYnV",
        "colab_type": "code",
        "colab": {}
      },
      "source": [
        "### Set up a list to hold binary values (1 for frozen, 0 for liquid)\n",
        "binary_list = []\n",
        "\n",
        "### Loop over current_wx observations and determin if any are frozen precip. If so, set binary variable to 1. If not, set binary variable to 0.\n",
        "for i in range(len(current_wx1)):\n",
        "    if (current_wx1[i] in fzn_list) or (current_wx2[i] in fzn_list) or (current_wx3[i] in fzn_list):\n",
        "        binary_list.append(1)\n",
        "    else:\n",
        "        binary_list.append(0)"
      ],
      "execution_count": 0,
      "outputs": []
    },
    {
      "cell_type": "code",
      "metadata": {
        "id": "GjAGS9wnDJNF",
        "colab_type": "code",
        "colab": {
          "base_uri": "https://localhost:8080/",
          "height": 35
        },
        "outputId": "22ef3d7f-20f9-4a3c-853c-0eedf16c4590"
      },
      "source": [
        "### Fill a new column called 'fzn_or_liq' with the binary values.\n",
        "decoded_metar_master['fzn_or_liq'] = binary_list\n",
        "\n",
        "### Then drop current_wx2 and current_wx3 because they hold a lot of NaNs\n",
        "decoded_metar_master = decoded_metar_master.drop(['current_wx2',\t'current_wx3'], axis=1)\n",
        "### Then drop all other rows with NaNs\n",
        "decoded_metar_master = decoded_metar_master.dropna(axis=0)\n",
        "### Check how many rows we are left with after cleaning up the dataframe\n",
        "current_wx1 = decoded_metar_master['current_wx1'].to_list()\n",
        "print(len(current_wx1))"
      ],
      "execution_count": 17,
      "outputs": [
        {
          "output_type": "stream",
          "text": [
            "389459\n"
          ],
          "name": "stdout"
        }
      ]
    },
    {
      "cell_type": "code",
      "metadata": {
        "id": "wtgRWCzouIq6",
        "colab_type": "code",
        "colab": {}
      },
      "source": [
        "### Split data 70/30 between training/testing\n",
        "from sklearn.model_selection import train_test_split\n",
        "predictor_cols = ['air_temperature']\n",
        "target_cols = ['fzn_or_liq']\n",
        "X = decoded_metar_master[predictor_cols]\n",
        "Y = decoded_metar_master[target_cols]\n",
        "training_predictor, test_predictor, training_target, test_target = train_test_split(X, Y, test_size=0.3)"
      ],
      "execution_count": 0,
      "outputs": []
    },
    {
      "cell_type": "code",
      "metadata": {
        "id": "CgtdAIPCJ4WW",
        "colab_type": "code",
        "colab": {}
      },
      "source": [
        "##training_target = training_predictor\n",
        "##test_target = test_predictor\n",
        "##training_target.drop(['date_time', 'station_id',\t'latitude',\t'longitude',\t'elevation',\t'wind_direction',\t'wind_speed',\t'current_wx1',\t'current_wx2',\t'current_wx3',\t'low_cloud_type',\t'low_cloud_level',\t'medium_cloud_type',\t'medium_cloud_level',\t'high_cloud_type',\t'high_cloud_level',\t'highest_cloud_type',\t'highest_cloud_level',\t'cloud_coverage',\t'air_temperature',\t'dew_point_temperature',\t'altimeter',\t'present_weather',\t'past_weather',\t'past_weather2',\t'air_pressure_at_sea_level',\t'eastward_wind',\t'northward_wind'], axis=1)\n",
        "##test_target.drop(['date_time', 'station_id',\t'latitude',\t'longitude',\t'elevation',\t'wind_direction',\t'wind_speed',\t'current_wx1',\t'current_wx2',\t'current_wx3',\t'low_cloud_type',\t'low_cloud_level',\t'medium_cloud_type',\t'medium_cloud_level',\t'high_cloud_type',\t'high_cloud_level',\t'highest_cloud_type',\t'highest_cloud_level',\t'cloud_coverage',\t'air_temperature',\t'dew_point_temperature',\t'altimeter',\t'present_weather',\t'past_weather',\t'past_weather2',\t'air_pressure_at_sea_level',\t'eastward_wind',\t'northward_wind'], axis=1)\n",
        "##training_predictor.drop(['fzn_or_liq'], axis=1)\n",
        "##test_predictor.drop(['fzn_or_liq'], axis=1)"
      ],
      "execution_count": 0,
      "outputs": []
    },
    {
      "cell_type": "code",
      "metadata": {
        "id": "W9sOhAnrT8kl",
        "colab_type": "code",
        "colab": {}
      },
      "source": [
        "from sklearn.linear_model import LogisticRegression\n"
      ],
      "execution_count": 0,
      "outputs": []
    },
    {
      "cell_type": "code",
      "metadata": {
        "id": "X1EUjurLWqP-",
        "colab_type": "code",
        "colab": {}
      },
      "source": [
        "### put air_temperature values in an array\n",
        "training_predictor_array = training_predictor['air_temperature'].values\n",
        "test_predictor_array = test_predictor['air_temperature'].values"
      ],
      "execution_count": 0,
      "outputs": []
    },
    {
      "cell_type": "code",
      "metadata": {
        "id": "_DSFhRyTbOwE",
        "colab_type": "code",
        "colab": {}
      },
      "source": [
        "# Initiate the model using the default parameters\n",
        "logreg = LogisticRegression()\n",
        "\n",
        "# Fit the model\n",
        "#logreg.fit(training_predictor_array.reshape(-1,1), training_target['fzn_or_liq'])\n",
        "logreg.fit(training_predictor_array.reshape(-1,1), training_target['fzn_or_liq'])\n",
        "\n",
        "# Predictions\n",
        "ptype_predict=logreg.predict(test_predictor_array.reshape(-1,1))\n",
        "predsprob = logreg.predict_proba(test_predictor_array.reshape(-1,1))"
      ],
      "execution_count": 0,
      "outputs": []
    },
    {
      "cell_type": "code",
      "metadata": {
        "id": "CpU8-M5KdaMS",
        "colab_type": "code",
        "colab": {}
      },
      "source": [
        "#print(len(predsprob))\n",
        "prob0 = []\n",
        "prob1 = []\n",
        "for i in range(len(predsprob)):\n",
        "    prob0.append(predsprob[i][0])\n",
        "    prob1.append(predsprob[i][1])"
      ],
      "execution_count": 0,
      "outputs": []
    },
    {
      "cell_type": "code",
      "metadata": {
        "id": "8WZi-XFLWRw0",
        "colab_type": "code",
        "outputId": "38b05ffd-bb5f-4656-8818-d75e1ee157ac",
        "colab": {
          "base_uri": "https://localhost:8080/",
          "height": 52
        }
      },
      "source": [
        "# Check skill with confusion matrix\n",
        "from sklearn import metrics\n",
        "cnf_matrix = metrics.confusion_matrix(test_target['fzn_or_liq'], ptype_predict)\n",
        "cnf_matrix"
      ],
      "execution_count": 24,
      "outputs": [
        {
          "output_type": "execute_result",
          "data": {
            "text/plain": [
              "array([[84504,  6878],\n",
              "       [11596, 13860]])"
            ]
          },
          "metadata": {
            "tags": []
          },
          "execution_count": 24
        }
      ]
    },
    {
      "cell_type": "code",
      "metadata": {
        "id": "IL30kQ-Rbu9v",
        "colab_type": "code",
        "outputId": "bcb7267f-0a1f-486d-89ec-556e25f1d2a7",
        "colab": {
          "base_uri": "https://localhost:8080/",
          "height": 397
        }
      },
      "source": [
        "# Plot confusion matrix\n",
        "\n",
        "import numpy as np\n",
        "import matplotlib.pyplot as plt\n",
        "import seaborn as sns\n",
        "%matplotlib inline\n",
        "\n",
        "class_names=[0,1] # name  of classes\n",
        "fig, ax = plt.subplots()\n",
        "tick_marks = np.arange(len(class_names))\n",
        "plt.xticks(tick_marks, class_names)\n",
        "plt.yticks(tick_marks, class_names)\n",
        "# create heatmap\n",
        "sns.heatmap(pd.DataFrame(cnf_matrix), annot=True, cmap=\"YlGnBu\" ,fmt='g')\n",
        "ax.xaxis.set_label_position(\"top\")\n",
        "plt.tight_layout()\n",
        "plt.title('Confusion matrix', y=1.1)\n",
        "plt.ylabel('Actual label')\n",
        "plt.xlabel('Predicted label')"
      ],
      "execution_count": 25,
      "outputs": [
        {
          "output_type": "stream",
          "text": [
            "/usr/local/lib/python3.6/dist-packages/statsmodels/tools/_testing.py:19: FutureWarning: pandas.util.testing is deprecated. Use the functions in the public API at pandas.testing instead.\n",
            "  import pandas.util.testing as tm\n"
          ],
          "name": "stderr"
        },
        {
          "output_type": "execute_result",
          "data": {
            "text/plain": [
              "Text(0.5, 257.44, 'Predicted label')"
            ]
          },
          "metadata": {
            "tags": []
          },
          "execution_count": 25
        },
        {
          "output_type": "display_data",
          "data": {
            "image/png": "[encoded data removed]",
            "text/plain": [
              "<Figure size 432x288 with 2 Axes>"
            ]
          },
          "metadata": {
            "tags": [],
            "needs_background": "light"
          }
        }
      ]
    },
    {
      "cell_type": "code",
      "metadata": {
        "id": "-d76gp6wb263",
        "colab_type": "code",
        "outputId": "6e8a516f-34a3-404c-a4b7-6e811fc0b8e1",
        "colab": {
          "base_uri": "https://localhost:8080/",
          "height": 107
        }
      },
      "source": [
        "# Other performance metrics\n",
        "\n",
        "#Jaccard Index, want this to be close to one\n",
        "from sklearn.metrics import jaccard_similarity_score\n",
        "j_index = jaccard_similarity_score(y_true=test_target['fzn_or_liq'],y_pred=ptype_predict)\n",
        "round(j_index,2)\n",
        "\n",
        "# F1-score\n",
        "from sklearn.metrics import f1_score\n",
        "f1_score(test_target['fzn_or_liq'], ptype_predict)\n",
        "\n",
        "# Brier skill score\n",
        "##from sklearn.metrics import brier_score_loss\n",
        "##log_score = brier_score_loss((test_target['fzn_or_liq'].values).reshape(-1,1), predsprob[:][0])\n",
        "##print('Brier:',log_score)\n",
        "from sklearn.metrics import brier_score_loss\n",
        "log_score = brier_score_loss(test_target['fzn_or_liq'],prob0)\n",
        "print('Brier:',log_score)\n",
        "\n",
        "# Precision score\n",
        "from sklearn.metrics import precision_score\n",
        "precision_score(test_target['fzn_or_liq'], ptype_predict)"
      ],
      "execution_count": 26,
      "outputs": [
        {
          "output_type": "stream",
          "text": [
            "Brier: 0.6983914977578308\n"
          ],
          "name": "stdout"
        },
        {
          "output_type": "stream",
          "text": [
            "/usr/local/lib/python3.6/dist-packages/sklearn/metrics/_classification.py:664: FutureWarning: jaccard_similarity_score has been deprecated and replaced with jaccard_score. It will be removed in version 0.23. This implementation has surprising behavior for binary and multiclass classification tasks.\n",
            "  FutureWarning)\n"
          ],
          "name": "stderr"
        },
        {
          "output_type": "execute_result",
          "data": {
            "text/plain": [
              "0.6683383161346321"
            ]
          },
          "metadata": {
            "tags": []
          },
          "execution_count": 26
        }
      ]
    },
    {
      "cell_type": "code",
      "metadata": {
        "id": "qNVJPBuFcx1l",
        "colab_type": "code",
        "colab": {}
      },
      "source": [
        ""
      ],
      "execution_count": 0,
      "outputs": []
    }
  ]
}