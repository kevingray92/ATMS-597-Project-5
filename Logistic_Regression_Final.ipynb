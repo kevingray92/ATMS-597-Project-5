{
  "nbformat": 4,
  "nbformat_minor": 0,
  "metadata": {
    "colab": {
      "name": "Logistic_Regression_Final.ipynb",
      "provenance": [],
      "collapsed_sections": []
    },
    "kernelspec": {
      "name": "python3",
      "display_name": "Python 3"
    }
  },
  "cells": [
    {
      "cell_type": "code",
      "metadata": {
        "id": "JXsE2Oc239jd",
        "colab_type": "code",
        "colab": {}
      },
      "source": [
        "import numpy as np\n",
        "import pandas as pd\n",
        "from datetime import datetime"
      ],
      "execution_count": 0,
      "outputs": []
    },
    {
      "cell_type": "code",
      "metadata": {
        "id": "CxpYOErso1-V",
        "colab_type": "code",
        "colab": {
          "base_uri": "https://localhost:8080/",
          "height": 33
        },
        "outputId": "1094c3ed-6849-4a47-f361-af1a6dc3f0fc"
      },
      "source": [
        "from google.colab import drive\n",
        "drive.mount('/content/drive')"
      ],
      "execution_count": 2,
      "outputs": [
        {
          "output_type": "stream",
          "text": [
            "Drive already mounted at /content/drive; to attempt to forcibly remount, call drive.mount(\"/content/drive\", force_remount=True).\n"
          ],
          "name": "stdout"
        }
      ]
    },
    {
      "cell_type": "code",
      "metadata": {
        "id": "y-Xm9VvA4N7o",
        "colab_type": "code",
        "colab": {}
      },
      "source": [
        "### Read one year data file\n",
        "#decoded_metar_master = pd.read_csv('/content/drive/My Drive/decoded_metar_master.csv')\n",
        "\n",
        "### Read all years data file\n",
        "filename = '/content/drive/My Drive/decoded_metar_FINAL.csv'\n",
        "decoded_metar_master = pd.read_csv(filename,dtype={'current_wx1':str})"
      ],
      "execution_count": 0,
      "outputs": []
    },
    {
      "cell_type": "code",
      "metadata": {
        "id": "MxySypuVzCNL",
        "colab_type": "code",
        "colab": {
          "base_uri": "https://localhost:8080/",
          "height": 760
        },
        "outputId": "b678207b-8d8f-4d87-9c13-42141d111916"
      },
      "source": [
        "decoded_metar_master"
      ],
      "execution_count": 4,
      "outputs": [
        {
          "output_type": "execute_result",
          "data": {
            "text/html": [
              "<div>\n",
              "<style scoped>\n",
              "    .dataframe tbody tr th:only-of-type {\n",
              "        vertical-align: middle;\n",
              "    }\n",
              "\n",
              "    .dataframe tbody tr th {\n",
              "        vertical-align: top;\n",
              "    }\n",
              "\n",
              "    .dataframe thead th {\n",
              "        text-align: right;\n",
              "    }\n",
              "</style>\n",
              "<table border=\"1\" class=\"dataframe\">\n",
              "  <thead>\n",
              "    <tr style=\"text-align: right;\">\n",
              "      <th></th>\n",
              "      <th>date_time</th>\n",
              "      <th>station_id</th>\n",
              "      <th>latitude</th>\n",
              "      <th>longitude</th>\n",
              "      <th>elevation</th>\n",
              "      <th>date_time.1</th>\n",
              "      <th>wind_direction</th>\n",
              "      <th>wind_speed</th>\n",
              "      <th>current_wx1</th>\n",
              "      <th>air_temperature</th>\n",
              "      <th>dew_point_temperature</th>\n",
              "      <th>altimeter</th>\n",
              "      <th>present_weather</th>\n",
              "      <th>past_weather</th>\n",
              "      <th>past_weather2</th>\n",
              "      <th>eastward_wind</th>\n",
              "      <th>northward_wind</th>\n",
              "      <th>month</th>\n",
              "      <th>fzn_or_liq</th>\n",
              "    </tr>\n",
              "  </thead>\n",
              "  <tbody>\n",
              "    <tr>\n",
              "      <th>0</th>\n",
              "      <td>2000-01-01 00:55:00</td>\n",
              "      <td>KMSN</td>\n",
              "      <td>43.13</td>\n",
              "      <td>-89.35</td>\n",
              "      <td>261</td>\n",
              "      <td>2000-01-01 00:55:00</td>\n",
              "      <td>320.0</td>\n",
              "      <td>6.0</td>\n",
              "      <td>-SN</td>\n",
              "      <td>-6.0</td>\n",
              "      <td>-9.0</td>\n",
              "      <td>29.92</td>\n",
              "      <td>71</td>\n",
              "      <td>0</td>\n",
              "      <td>0</td>\n",
              "      <td>3.856726</td>\n",
              "      <td>-4.596267</td>\n",
              "      <td>1</td>\n",
              "      <td>1</td>\n",
              "    </tr>\n",
              "    <tr>\n",
              "      <th>1</th>\n",
              "      <td>2000-01-01 01:00:00</td>\n",
              "      <td>KMSN</td>\n",
              "      <td>43.13</td>\n",
              "      <td>-89.35</td>\n",
              "      <td>261</td>\n",
              "      <td>2000-01-01 01:00:00</td>\n",
              "      <td>340.0</td>\n",
              "      <td>7.0</td>\n",
              "      <td>-SN</td>\n",
              "      <td>-5.0</td>\n",
              "      <td>-9.0</td>\n",
              "      <td>29.92</td>\n",
              "      <td>71</td>\n",
              "      <td>0</td>\n",
              "      <td>0</td>\n",
              "      <td>2.394141</td>\n",
              "      <td>-6.577848</td>\n",
              "      <td>1</td>\n",
              "      <td>1</td>\n",
              "    </tr>\n",
              "    <tr>\n",
              "      <th>2</th>\n",
              "      <td>2000-01-01 01:05:00</td>\n",
              "      <td>KMSN</td>\n",
              "      <td>43.13</td>\n",
              "      <td>-89.35</td>\n",
              "      <td>261</td>\n",
              "      <td>2000-01-01 01:05:00</td>\n",
              "      <td>330.0</td>\n",
              "      <td>10.0</td>\n",
              "      <td>-SN</td>\n",
              "      <td>-5.0</td>\n",
              "      <td>-10.0</td>\n",
              "      <td>29.92</td>\n",
              "      <td>71</td>\n",
              "      <td>0</td>\n",
              "      <td>0</td>\n",
              "      <td>5.000000</td>\n",
              "      <td>-8.660254</td>\n",
              "      <td>1</td>\n",
              "      <td>1</td>\n",
              "    </tr>\n",
              "    <tr>\n",
              "      <th>3</th>\n",
              "      <td>2000-01-01 01:10:00</td>\n",
              "      <td>KMSN</td>\n",
              "      <td>43.13</td>\n",
              "      <td>-89.35</td>\n",
              "      <td>261</td>\n",
              "      <td>2000-01-01 01:10:00</td>\n",
              "      <td>320.0</td>\n",
              "      <td>8.0</td>\n",
              "      <td>-SN</td>\n",
              "      <td>-6.0</td>\n",
              "      <td>-10.0</td>\n",
              "      <td>29.93</td>\n",
              "      <td>71</td>\n",
              "      <td>0</td>\n",
              "      <td>0</td>\n",
              "      <td>5.142301</td>\n",
              "      <td>-6.128356</td>\n",
              "      <td>1</td>\n",
              "      <td>1</td>\n",
              "    </tr>\n",
              "    <tr>\n",
              "      <th>4</th>\n",
              "      <td>2000-01-01 01:15:00</td>\n",
              "      <td>KMSN</td>\n",
              "      <td>43.13</td>\n",
              "      <td>-89.35</td>\n",
              "      <td>261</td>\n",
              "      <td>2000-01-01 01:15:00</td>\n",
              "      <td>320.0</td>\n",
              "      <td>8.0</td>\n",
              "      <td>-SN</td>\n",
              "      <td>-6.0</td>\n",
              "      <td>-10.0</td>\n",
              "      <td>29.93</td>\n",
              "      <td>71</td>\n",
              "      <td>0</td>\n",
              "      <td>0</td>\n",
              "      <td>5.142301</td>\n",
              "      <td>-6.128356</td>\n",
              "      <td>1</td>\n",
              "      <td>1</td>\n",
              "    </tr>\n",
              "    <tr>\n",
              "      <th>...</th>\n",
              "      <td>...</td>\n",
              "      <td>...</td>\n",
              "      <td>...</td>\n",
              "      <td>...</td>\n",
              "      <td>...</td>\n",
              "      <td>...</td>\n",
              "      <td>...</td>\n",
              "      <td>...</td>\n",
              "      <td>...</td>\n",
              "      <td>...</td>\n",
              "      <td>...</td>\n",
              "      <td>...</td>\n",
              "      <td>...</td>\n",
              "      <td>...</td>\n",
              "      <td>...</td>\n",
              "      <td>...</td>\n",
              "      <td>...</td>\n",
              "      <td>...</td>\n",
              "      <td>...</td>\n",
              "    </tr>\n",
              "    <tr>\n",
              "      <th>178089</th>\n",
              "      <td>2020-03-30 00:25:00</td>\n",
              "      <td>KMSN</td>\n",
              "      <td>43.13</td>\n",
              "      <td>-89.35</td>\n",
              "      <td>261</td>\n",
              "      <td>2020-03-30 00:25:00</td>\n",
              "      <td>290.0</td>\n",
              "      <td>7.0</td>\n",
              "      <td>-RA</td>\n",
              "      <td>5.0</td>\n",
              "      <td>2.0</td>\n",
              "      <td>29.77</td>\n",
              "      <td>61</td>\n",
              "      <td>0</td>\n",
              "      <td>0</td>\n",
              "      <td>6.577848</td>\n",
              "      <td>-2.394141</td>\n",
              "      <td>3</td>\n",
              "      <td>0</td>\n",
              "    </tr>\n",
              "    <tr>\n",
              "      <th>178090</th>\n",
              "      <td>2020-03-30 00:30:00</td>\n",
              "      <td>KMSN</td>\n",
              "      <td>43.13</td>\n",
              "      <td>-89.35</td>\n",
              "      <td>261</td>\n",
              "      <td>2020-03-30 00:30:00</td>\n",
              "      <td>280.0</td>\n",
              "      <td>8.0</td>\n",
              "      <td>-RA</td>\n",
              "      <td>5.0</td>\n",
              "      <td>2.0</td>\n",
              "      <td>29.77</td>\n",
              "      <td>61</td>\n",
              "      <td>0</td>\n",
              "      <td>0</td>\n",
              "      <td>7.878462</td>\n",
              "      <td>-1.389185</td>\n",
              "      <td>3</td>\n",
              "      <td>0</td>\n",
              "    </tr>\n",
              "    <tr>\n",
              "      <th>178091</th>\n",
              "      <td>2020-03-31 16:55:00</td>\n",
              "      <td>KMSN</td>\n",
              "      <td>43.13</td>\n",
              "      <td>-89.35</td>\n",
              "      <td>261</td>\n",
              "      <td>2020-03-31 16:55:00</td>\n",
              "      <td>40.0</td>\n",
              "      <td>9.0</td>\n",
              "      <td>-SN</td>\n",
              "      <td>2.0</td>\n",
              "      <td>-1.0</td>\n",
              "      <td>30.08</td>\n",
              "      <td>71</td>\n",
              "      <td>0</td>\n",
              "      <td>0</td>\n",
              "      <td>-5.785088</td>\n",
              "      <td>-6.894400</td>\n",
              "      <td>3</td>\n",
              "      <td>1</td>\n",
              "    </tr>\n",
              "    <tr>\n",
              "      <th>178092</th>\n",
              "      <td>2020-03-31 17:00:00</td>\n",
              "      <td>KMSN</td>\n",
              "      <td>43.13</td>\n",
              "      <td>-89.35</td>\n",
              "      <td>261</td>\n",
              "      <td>2020-03-31 17:00:00</td>\n",
              "      <td>50.0</td>\n",
              "      <td>10.0</td>\n",
              "      <td>-SN</td>\n",
              "      <td>2.0</td>\n",
              "      <td>-1.0</td>\n",
              "      <td>30.08</td>\n",
              "      <td>71</td>\n",
              "      <td>0</td>\n",
              "      <td>0</td>\n",
              "      <td>-7.660444</td>\n",
              "      <td>-6.427876</td>\n",
              "      <td>3</td>\n",
              "      <td>1</td>\n",
              "    </tr>\n",
              "    <tr>\n",
              "      <th>178093</th>\n",
              "      <td>2020-03-31 17:05:00</td>\n",
              "      <td>KMSN</td>\n",
              "      <td>43.13</td>\n",
              "      <td>-89.35</td>\n",
              "      <td>261</td>\n",
              "      <td>2020-03-31 17:05:00</td>\n",
              "      <td>30.0</td>\n",
              "      <td>9.0</td>\n",
              "      <td>-SN</td>\n",
              "      <td>3.0</td>\n",
              "      <td>-1.0</td>\n",
              "      <td>30.08</td>\n",
              "      <td>71</td>\n",
              "      <td>0</td>\n",
              "      <td>0</td>\n",
              "      <td>-4.500000</td>\n",
              "      <td>-7.794229</td>\n",
              "      <td>3</td>\n",
              "      <td>1</td>\n",
              "    </tr>\n",
              "  </tbody>\n",
              "</table>\n",
              "<p>178094 rows × 19 columns</p>\n",
              "</div>"
            ],
            "text/plain": [
              "                  date_time station_id  ...  month  fzn_or_liq\n",
              "0       2000-01-01 00:55:00       KMSN  ...      1           1\n",
              "1       2000-01-01 01:00:00       KMSN  ...      1           1\n",
              "2       2000-01-01 01:05:00       KMSN  ...      1           1\n",
              "3       2000-01-01 01:10:00       KMSN  ...      1           1\n",
              "4       2000-01-01 01:15:00       KMSN  ...      1           1\n",
              "...                     ...        ...  ...    ...         ...\n",
              "178089  2020-03-30 00:25:00       KMSN  ...      3           0\n",
              "178090  2020-03-30 00:30:00       KMSN  ...      3           0\n",
              "178091  2020-03-31 16:55:00       KMSN  ...      3           1\n",
              "178092  2020-03-31 17:00:00       KMSN  ...      3           1\n",
              "178093  2020-03-31 17:05:00       KMSN  ...      3           1\n",
              "\n",
              "[178094 rows x 19 columns]"
            ]
          },
          "metadata": {
            "tags": []
          },
          "execution_count": 4
        }
      ]
    },
    {
      "cell_type": "code",
      "metadata": {
        "id": "wtgRWCzouIq6",
        "colab_type": "code",
        "colab": {}
      },
      "source": [
        "### Split data 70/30 between training/testing\n",
        "from sklearn.model_selection import train_test_split\n",
        "#predictor_cols = ['air_temperature']\n",
        "predictor_cols = ['air_temperature', 'wind_direction', 'wind_speed', 'dew_point_temperature', 'eastward_wind', 'northward_wind', 'altimeter', 'month']\n",
        "target_cols = ['fzn_or_liq']\n",
        "X = decoded_metar_master[predictor_cols]\n",
        "Y = decoded_metar_master[target_cols]\n",
        "training_predictor, test_predictor, training_target, test_target = train_test_split(X, Y, test_size=0.3)"
      ],
      "execution_count": 0,
      "outputs": []
    },
    {
      "cell_type": "code",
      "metadata": {
        "id": "CgtdAIPCJ4WW",
        "colab_type": "code",
        "colab": {}
      },
      "source": [
        "##training_target = training_predictor\n",
        "##test_target = test_predictor\n",
        "##training_target.drop(['date_time', 'station_id',\t'latitude',\t'longitude',\t'elevation',\t'wind_direction',\t'wind_speed',\t'current_wx1',\t'current_wx2',\t'current_wx3',\t'low_cloud_type',\t'low_cloud_level',\t'medium_cloud_type',\t'medium_cloud_level',\t'high_cloud_type',\t'high_cloud_level',\t'highest_cloud_type',\t'highest_cloud_level',\t'cloud_coverage',\t'air_temperature',\t'dew_point_temperature',\t'altimeter',\t'present_weather',\t'past_weather',\t'past_weather2',\t'air_pressure_at_sea_level',\t'eastward_wind',\t'northward_wind'], axis=1)\n",
        "##test_target.drop(['date_time', 'station_id',\t'latitude',\t'longitude',\t'elevation',\t'wind_direction',\t'wind_speed',\t'current_wx1',\t'current_wx2',\t'current_wx3',\t'low_cloud_type',\t'low_cloud_level',\t'medium_cloud_type',\t'medium_cloud_level',\t'high_cloud_type',\t'high_cloud_level',\t'highest_cloud_type',\t'highest_cloud_level',\t'cloud_coverage',\t'air_temperature',\t'dew_point_temperature',\t'altimeter',\t'present_weather',\t'past_weather',\t'past_weather2',\t'air_pressure_at_sea_level',\t'eastward_wind',\t'northward_wind'], axis=1)\n",
        "##training_predictor.drop(['fzn_or_liq'], axis=1)\n",
        "##test_predictor.drop(['fzn_or_liq'], axis=1)"
      ],
      "execution_count": 0,
      "outputs": []
    },
    {
      "cell_type": "code",
      "metadata": {
        "id": "W9sOhAnrT8kl",
        "colab_type": "code",
        "colab": {}
      },
      "source": [
        "from sklearn.linear_model import LogisticRegression\n"
      ],
      "execution_count": 0,
      "outputs": []
    },
    {
      "cell_type": "code",
      "metadata": {
        "id": "X1EUjurLWqP-",
        "colab_type": "code",
        "colab": {}
      },
      "source": [
        "### put air_temperature values in an array\n",
        "#training_predictor_array = training_predictor['air_temperature'].values\n",
        "#test_predictor_array = test_predictor['air_temperature'].values"
      ],
      "execution_count": 0,
      "outputs": []
    },
    {
      "cell_type": "code",
      "metadata": {
        "id": "_DSFhRyTbOwE",
        "colab_type": "code",
        "colab": {}
      },
      "source": [
        "# Initiate the model using the default parameters\n",
        "#logreg = LogisticRegression()\n",
        "\n",
        "# Fit the model\n",
        "#logreg.fit(training_predictor_array.reshape(-1,1), training_target['fzn_or_liq'])\n",
        "#logreg.fit(training_predictor_array.reshape(-1,1), training_target['fzn_or_liq'])\n",
        "\n",
        "# Predictions\n",
        "#ptype_predict=logreg.predict(test_predictor_array.reshape(-1,1))\n",
        "#predsprob = logreg.predict_proba(test_predictor_array.reshape(-1,1))"
      ],
      "execution_count": 0,
      "outputs": []
    },
    {
      "cell_type": "code",
      "metadata": {
        "id": "iLfJgFOCbuf7",
        "colab_type": "code",
        "colab": {}
      },
      "source": [
        "# Initiate the model using the default parameters\n",
        "logreg = LogisticRegression()\n",
        "\n",
        "# Fit the model\n",
        "#logreg.fit(training_predictor_array.reshape(-1,1), training_target['fzn_or_liq'])\n",
        "logreg.fit(training_predictor, training_target['fzn_or_liq'])\n",
        "\n",
        "# Predictions\n",
        "ptype_predict=logreg.predict(test_predictor)\n",
        "predsprob = logreg.predict_proba(test_predictor)"
      ],
      "execution_count": 0,
      "outputs": []
    },
    {
      "cell_type": "code",
      "metadata": {
        "id": "CpU8-M5KdaMS",
        "colab_type": "code",
        "colab": {}
      },
      "source": [
        "#print(len(predsprob))\n",
        "prob0 = []\n",
        "prob1 = []\n",
        "for i in range(len(predsprob)):\n",
        "    prob0.append(predsprob[i][0])\n",
        "    prob1.append(predsprob[i][1])"
      ],
      "execution_count": 0,
      "outputs": []
    },
    {
      "cell_type": "code",
      "metadata": {
        "id": "8WZi-XFLWRw0",
        "colab_type": "code",
        "outputId": "e63e05dc-6281-41bb-dd2c-1dd593ae2526",
        "colab": {
          "base_uri": "https://localhost:8080/",
          "height": 50
        }
      },
      "source": [
        "# Check skill with confusion matrix\n",
        "from sklearn import metrics\n",
        "cnf_matrix = metrics.confusion_matrix(test_target['fzn_or_liq'], ptype_predict)\n",
        "cnf_matrix"
      ],
      "execution_count": 13,
      "outputs": [
        {
          "output_type": "execute_result",
          "data": {
            "text/plain": [
              "array([[27302,   653],\n",
              "       [  491, 24983]])"
            ]
          },
          "metadata": {
            "tags": []
          },
          "execution_count": 13
        }
      ]
    },
    {
      "cell_type": "code",
      "metadata": {
        "id": "IL30kQ-Rbu9v",
        "colab_type": "code",
        "outputId": "6df8fa98-b381-4de0-a078-636924c78252",
        "colab": {
          "base_uri": "https://localhost:8080/",
          "height": 395
        }
      },
      "source": [
        "# Plot confusion matrix\n",
        "\n",
        "import numpy as np\n",
        "import matplotlib.pyplot as plt\n",
        "import seaborn as sns\n",
        "%matplotlib inline\n",
        "\n",
        "class_names=[0,1] # name  of classes\n",
        "fig, ax = plt.subplots()\n",
        "tick_marks = np.arange(len(class_names))\n",
        "plt.xticks(tick_marks, class_names)\n",
        "plt.yticks(tick_marks, class_names)\n",
        "# create heatmap\n",
        "sns.heatmap(pd.DataFrame(cnf_matrix), annot=True, cmap=\"YlGnBu\" ,fmt='g')\n",
        "ax.xaxis.set_label_position(\"top\")\n",
        "plt.tight_layout()\n",
        "plt.title('Confusion matrix', y=1.1)\n",
        "plt.ylabel('Actual label')\n",
        "plt.xlabel('Predicted label')"
      ],
      "execution_count": 14,
      "outputs": [
        {
          "output_type": "stream",
          "text": [
            "/usr/local/lib/python3.6/dist-packages/statsmodels/tools/_testing.py:19: FutureWarning: pandas.util.testing is deprecated. Use the functions in the public API at pandas.testing instead.\n",
            "  import pandas.util.testing as tm\n"
          ],
          "name": "stderr"
        },
        {
          "output_type": "execute_result",
          "data": {
            "text/plain": [
              "Text(0.5, 257.44, 'Predicted label')"
            ]
          },
          "metadata": {
            "tags": []
          },
          "execution_count": 14
        },
        {
          "output_type": "display_data",
          "data": {
            "image/png": "[encoded data removed]",
            "text/plain": [
              "<Figure size 432x288 with 2 Axes>"
            ]
          },
          "metadata": {
            "tags": [],
            "needs_background": "light"
          }
        }
      ]
    },
    {
      "cell_type": "code",
      "metadata": {
        "id": "-d76gp6wb263",
        "colab_type": "code",
        "outputId": "d9fb8195-2e72-4ac8-9620-9eba3674c4ed",
        "colab": {
          "base_uri": "https://localhost:8080/",
          "height": 83
        }
      },
      "source": [
        "# Other performance metrics\n",
        "\n",
        "#Jaccard Index, want this to be close to one\n",
        "from sklearn.metrics import jaccard_score\n",
        "j_index = jaccard_score(y_true=test_target['fzn_or_liq'],y_pred=ptype_predict)\n",
        "round(j_index,2)\n",
        "print('j_index:',j_index)\n",
        "\n",
        "# F1-score\n",
        "from sklearn.metrics import f1_score\n",
        "f1 = f1_score(test_target['fzn_or_liq'], ptype_predict)\n",
        "print('f1 score',f1)\n",
        "\n",
        "# Brier skill score\n",
        "##from sklearn.metrics import brier_score_loss\n",
        "##log_score = brier_score_loss((test_target['fzn_or_liq'].values).reshape(-1,1), predsprob[:][0])\n",
        "##print('Brier:',log_score)\n",
        "from sklearn.metrics import brier_score_loss\n",
        "brier_score = brier_score_loss(test_target['fzn_or_liq'],prob0)\n",
        "print('Brier:',brier_score)\n",
        "\n",
        "# Precision score\n",
        "from sklearn.metrics import precision_score\n",
        "precision_score = precision_score(test_target['fzn_or_liq'], ptype_predict)\n",
        "print('precision score:', precision_score)"
      ],
      "execution_count": 15,
      "outputs": [
        {
          "output_type": "stream",
          "text": [
            "j_index: 0.9562138783633789\n",
            "f1 score 0.9776169047153198\n",
            "Brier: 0.9542492305552448\n",
            "precision score: 0.9745280074894679\n"
          ],
          "name": "stdout"
        }
      ]
    },
    {
      "cell_type": "code",
      "metadata": {
        "id": "qNVJPBuFcx1l",
        "colab_type": "code",
        "colab": {}
      },
      "source": [
        ""
      ],
      "execution_count": 0,
      "outputs": []
    }
  ]
}