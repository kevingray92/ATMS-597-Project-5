{
  "nbformat": 4,
  "nbformat_minor": 0,
  "metadata": {
    "colab": {
      "name": "Tree_Project_5_Final.ipynb",
      "provenance": [],
      "collapsed_sections": [],
      "authorship_tag": "ABX9TyNsQ5xrNeRLRGeDPUwIwtCz",
      "include_colab_link": true
    },
    "kernelspec": {
      "name": "python3",
      "display_name": "Python 3"
    }
  },
  "cells": [
    {
      "cell_type": "markdown",
      "metadata": {
        "id": "view-in-github",
        "colab_type": "text"
      },
      "source": [
        "<a href=\"https://colab.research.google.com/github/rmiller34/ATMS-597-Project-5/blob/master/Tree_Project_5_Final.ipynb\" target=\"_parent\"><img src=\"https://colab.research.google.com/assets/colab-badge.svg\" alt=\"Open In Colab\"/></a>"
      ]
    },
    {
      "cell_type": "code",
      "metadata": {
        "id": "uwJ7Ihwt46pj",
        "colab_type": "code",
        "colab": {
          "base_uri": "https://localhost:8080/",
          "height": 459
        },
        "outputId": "076a63fb-a6b3-435a-b9c8-2affa1b4e954"
      },
      "source": [
        "from google.colab import drive\n",
        "drive.mount('/content/gdrive')\n",
        "#change directory to the right spot\n",
        "import os \n",
        "os.chdir('/content/gdrive/My Drive/ATMS_597_Project_5')\n",
        "\n",
        "### Read all years data file\n",
        "from datetime import datetime\n",
        "import pandas as pd\n",
        "\n",
        "!pip install metpy\n",
        "from metpy.io import parse_metar_to_dataframe\n",
        "import glob\n",
        "import numpy as np\n"
      ],
      "execution_count": 61,
      "outputs": [
        {
          "output_type": "stream",
          "text": [
            "Drive already mounted at /content/gdrive; to attempt to forcibly remount, call drive.mount(\"/content/gdrive\", force_remount=True).\n",
            "Requirement already satisfied: metpy in /usr/local/lib/python3.6/dist-packages (0.12.1)\n",
            "Requirement already satisfied: pandas>=0.22.0 in /usr/local/lib/python3.6/dist-packages (from metpy) (1.0.3)\n",
            "Requirement already satisfied: numpy>=1.16.0 in /usr/local/lib/python3.6/dist-packages (from metpy) (1.18.2)\n",
            "Requirement already satisfied: matplotlib>=2.1.0 in /usr/local/lib/python3.6/dist-packages (from metpy) (3.2.1)\n",
            "Requirement already satisfied: pint>=0.10.1 in /usr/local/lib/python3.6/dist-packages (from metpy) (0.11)\n",
            "Requirement already satisfied: pooch>=0.1 in /usr/local/lib/python3.6/dist-packages (from metpy) (1.1.0)\n",
            "Requirement already satisfied: scipy>=1.0 in /usr/local/lib/python3.6/dist-packages (from metpy) (1.4.1)\n",
            "Requirement already satisfied: traitlets>=4.3.0 in /usr/local/lib/python3.6/dist-packages (from metpy) (4.3.3)\n",
            "Requirement already satisfied: xarray>=0.13.0 in /usr/local/lib/python3.6/dist-packages (from metpy) (0.15.1)\n",
            "Requirement already satisfied: pytz>=2017.2 in /usr/local/lib/python3.6/dist-packages (from pandas>=0.22.0->metpy) (2018.9)\n",
            "Requirement already satisfied: python-dateutil>=2.6.1 in /usr/local/lib/python3.6/dist-packages (from pandas>=0.22.0->metpy) (2.8.1)\n",
            "Requirement already satisfied: pyparsing!=2.0.4,!=2.1.2,!=2.1.6,>=2.0.1 in /usr/local/lib/python3.6/dist-packages (from matplotlib>=2.1.0->metpy) (2.4.7)\n",
            "Requirement already satisfied: kiwisolver>=1.0.1 in /usr/local/lib/python3.6/dist-packages (from matplotlib>=2.1.0->metpy) (1.2.0)\n",
            "Requirement already satisfied: cycler>=0.10 in /usr/local/lib/python3.6/dist-packages (from matplotlib>=2.1.0->metpy) (0.10.0)\n",
            "Requirement already satisfied: setuptools in /usr/local/lib/python3.6/dist-packages (from pint>=0.10.1->metpy) (46.1.3)\n",
            "Requirement already satisfied: appdirs in /usr/local/lib/python3.6/dist-packages (from pooch>=0.1->metpy) (1.4.3)\n",
            "Requirement already satisfied: requests in /usr/local/lib/python3.6/dist-packages (from pooch>=0.1->metpy) (2.21.0)\n",
            "Requirement already satisfied: packaging in /usr/local/lib/python3.6/dist-packages (from pooch>=0.1->metpy) (20.3)\n",
            "Requirement already satisfied: ipython-genutils in /usr/local/lib/python3.6/dist-packages (from traitlets>=4.3.0->metpy) (0.2.0)\n",
            "Requirement already satisfied: decorator in /usr/local/lib/python3.6/dist-packages (from traitlets>=4.3.0->metpy) (4.4.2)\n",
            "Requirement already satisfied: six in /usr/local/lib/python3.6/dist-packages (from traitlets>=4.3.0->metpy) (1.12.0)\n",
            "Requirement already satisfied: idna<2.9,>=2.5 in /usr/local/lib/python3.6/dist-packages (from requests->pooch>=0.1->metpy) (2.8)\n",
            "Requirement already satisfied: chardet<3.1.0,>=3.0.2 in /usr/local/lib/python3.6/dist-packages (from requests->pooch>=0.1->metpy) (3.0.4)\n",
            "Requirement already satisfied: certifi>=2017.4.17 in /usr/local/lib/python3.6/dist-packages (from requests->pooch>=0.1->metpy) (2020.4.5.1)\n",
            "Requirement already satisfied: urllib3<1.25,>=1.21.1 in /usr/local/lib/python3.6/dist-packages (from requests->pooch>=0.1->metpy) (1.24.3)\n"
          ],
          "name": "stdout"
        }
      ]
    },
    {
      "cell_type": "code",
      "metadata": {
        "id": "erEEiaqJ5Ga8",
        "colab_type": "code",
        "colab": {}
      },
      "source": [
        "from sklearn import tree\n",
        "from sklearn.model_selection import train_test_split\n",
        "from sklearn.metrics import roc_curve\n",
        "from sklearn.metrics import brier_score_loss\n",
        "import pandas as pd\n",
        "import datetime as dt\n",
        "import matplotlib.pyplot as plt\n",
        "import numpy as np\n"
      ],
      "execution_count": 0,
      "outputs": []
    },
    {
      "cell_type": "code",
      "metadata": {
        "id": "kucwT3Y05JmF",
        "colab_type": "code",
        "colab": {
          "base_uri": "https://localhost:8080/",
          "height": 796
        },
        "outputId": "9f9cdf52-a619-4f95-d116-a53db138c43c"
      },
      "source": [
        "\n",
        "# Read data\n",
        "filename= 'decoded_metar_FINAL.csv'\n",
        "decoded_metar_dataset=pd.read_csv(filename,dtype={'current_wx1':str})\n",
        "decoded_metar_dataset\n",
        "\n",
        "##Rain/Liquid: RA, FZRA, TSRA =value 0  Snow/Freezing: SN, SNDZ=value 1)\n",
        "\n"
      ],
      "execution_count": 63,
      "outputs": [
        {
          "output_type": "execute_result",
          "data": {
            "text/html": [
              "<div>\n",
              "<style scoped>\n",
              "    .dataframe tbody tr th:only-of-type {\n",
              "        vertical-align: middle;\n",
              "    }\n",
              "\n",
              "    .dataframe tbody tr th {\n",
              "        vertical-align: top;\n",
              "    }\n",
              "\n",
              "    .dataframe thead th {\n",
              "        text-align: right;\n",
              "    }\n",
              "</style>\n",
              "<table border=\"1\" class=\"dataframe\">\n",
              "  <thead>\n",
              "    <tr style=\"text-align: right;\">\n",
              "      <th></th>\n",
              "      <th>Unnamed: 0</th>\n",
              "      <th>date_time</th>\n",
              "      <th>station_id</th>\n",
              "      <th>latitude</th>\n",
              "      <th>longitude</th>\n",
              "      <th>elevation</th>\n",
              "      <th>date_time.1</th>\n",
              "      <th>wind_direction</th>\n",
              "      <th>wind_speed</th>\n",
              "      <th>current_wx1</th>\n",
              "      <th>air_temperature</th>\n",
              "      <th>dew_point_temperature</th>\n",
              "      <th>altimeter</th>\n",
              "      <th>present_weather</th>\n",
              "      <th>past_weather</th>\n",
              "      <th>past_weather2</th>\n",
              "      <th>eastward_wind</th>\n",
              "      <th>northward_wind</th>\n",
              "      <th>month</th>\n",
              "      <th>fzn_or_liq</th>\n",
              "    </tr>\n",
              "  </thead>\n",
              "  <tbody>\n",
              "    <tr>\n",
              "      <th>0</th>\n",
              "      <td>1</td>\n",
              "      <td>2000-01-01 00:55:00</td>\n",
              "      <td>KMSN</td>\n",
              "      <td>43.13</td>\n",
              "      <td>-89.35</td>\n",
              "      <td>261</td>\n",
              "      <td>2000-01-01 00:55:00</td>\n",
              "      <td>320.0</td>\n",
              "      <td>6.0</td>\n",
              "      <td>-SN</td>\n",
              "      <td>-6.0</td>\n",
              "      <td>-9.0</td>\n",
              "      <td>29.92</td>\n",
              "      <td>71</td>\n",
              "      <td>0</td>\n",
              "      <td>0</td>\n",
              "      <td>3.856726</td>\n",
              "      <td>-4.596267</td>\n",
              "      <td>1</td>\n",
              "      <td>1</td>\n",
              "    </tr>\n",
              "    <tr>\n",
              "      <th>1</th>\n",
              "      <td>2</td>\n",
              "      <td>2000-01-01 01:00:00</td>\n",
              "      <td>KMSN</td>\n",
              "      <td>43.13</td>\n",
              "      <td>-89.35</td>\n",
              "      <td>261</td>\n",
              "      <td>2000-01-01 01:00:00</td>\n",
              "      <td>340.0</td>\n",
              "      <td>7.0</td>\n",
              "      <td>-SN</td>\n",
              "      <td>-5.0</td>\n",
              "      <td>-9.0</td>\n",
              "      <td>29.92</td>\n",
              "      <td>71</td>\n",
              "      <td>0</td>\n",
              "      <td>0</td>\n",
              "      <td>2.394141</td>\n",
              "      <td>-6.577848</td>\n",
              "      <td>1</td>\n",
              "      <td>1</td>\n",
              "    </tr>\n",
              "    <tr>\n",
              "      <th>2</th>\n",
              "      <td>3</td>\n",
              "      <td>2000-01-01 01:05:00</td>\n",
              "      <td>KMSN</td>\n",
              "      <td>43.13</td>\n",
              "      <td>-89.35</td>\n",
              "      <td>261</td>\n",
              "      <td>2000-01-01 01:05:00</td>\n",
              "      <td>330.0</td>\n",
              "      <td>10.0</td>\n",
              "      <td>-SN</td>\n",
              "      <td>-5.0</td>\n",
              "      <td>-10.0</td>\n",
              "      <td>29.92</td>\n",
              "      <td>71</td>\n",
              "      <td>0</td>\n",
              "      <td>0</td>\n",
              "      <td>5.000000</td>\n",
              "      <td>-8.660254</td>\n",
              "      <td>1</td>\n",
              "      <td>1</td>\n",
              "    </tr>\n",
              "    <tr>\n",
              "      <th>3</th>\n",
              "      <td>4</td>\n",
              "      <td>2000-01-01 01:10:00</td>\n",
              "      <td>KMSN</td>\n",
              "      <td>43.13</td>\n",
              "      <td>-89.35</td>\n",
              "      <td>261</td>\n",
              "      <td>2000-01-01 01:10:00</td>\n",
              "      <td>320.0</td>\n",
              "      <td>8.0</td>\n",
              "      <td>-SN</td>\n",
              "      <td>-6.0</td>\n",
              "      <td>-10.0</td>\n",
              "      <td>29.93</td>\n",
              "      <td>71</td>\n",
              "      <td>0</td>\n",
              "      <td>0</td>\n",
              "      <td>5.142301</td>\n",
              "      <td>-6.128356</td>\n",
              "      <td>1</td>\n",
              "      <td>1</td>\n",
              "    </tr>\n",
              "    <tr>\n",
              "      <th>4</th>\n",
              "      <td>5</td>\n",
              "      <td>2000-01-01 01:15:00</td>\n",
              "      <td>KMSN</td>\n",
              "      <td>43.13</td>\n",
              "      <td>-89.35</td>\n",
              "      <td>261</td>\n",
              "      <td>2000-01-01 01:15:00</td>\n",
              "      <td>320.0</td>\n",
              "      <td>8.0</td>\n",
              "      <td>-SN</td>\n",
              "      <td>-6.0</td>\n",
              "      <td>-10.0</td>\n",
              "      <td>29.93</td>\n",
              "      <td>71</td>\n",
              "      <td>0</td>\n",
              "      <td>0</td>\n",
              "      <td>5.142301</td>\n",
              "      <td>-6.128356</td>\n",
              "      <td>1</td>\n",
              "      <td>1</td>\n",
              "    </tr>\n",
              "    <tr>\n",
              "      <th>...</th>\n",
              "      <td>...</td>\n",
              "      <td>...</td>\n",
              "      <td>...</td>\n",
              "      <td>...</td>\n",
              "      <td>...</td>\n",
              "      <td>...</td>\n",
              "      <td>...</td>\n",
              "      <td>...</td>\n",
              "      <td>...</td>\n",
              "      <td>...</td>\n",
              "      <td>...</td>\n",
              "      <td>...</td>\n",
              "      <td>...</td>\n",
              "      <td>...</td>\n",
              "      <td>...</td>\n",
              "      <td>...</td>\n",
              "      <td>...</td>\n",
              "      <td>...</td>\n",
              "      <td>...</td>\n",
              "      <td>...</td>\n",
              "    </tr>\n",
              "    <tr>\n",
              "      <th>175199</th>\n",
              "      <td>412969</td>\n",
              "      <td>2019-12-31 15:25:00</td>\n",
              "      <td>KMSN</td>\n",
              "      <td>43.13</td>\n",
              "      <td>-89.35</td>\n",
              "      <td>261</td>\n",
              "      <td>2019-12-31 15:25:00</td>\n",
              "      <td>300.0</td>\n",
              "      <td>8.0</td>\n",
              "      <td>-SN</td>\n",
              "      <td>-4.0</td>\n",
              "      <td>-8.0</td>\n",
              "      <td>29.69</td>\n",
              "      <td>71</td>\n",
              "      <td>0</td>\n",
              "      <td>0</td>\n",
              "      <td>6.928203</td>\n",
              "      <td>-4.000000</td>\n",
              "      <td>12</td>\n",
              "      <td>1</td>\n",
              "    </tr>\n",
              "    <tr>\n",
              "      <th>175200</th>\n",
              "      <td>412970</td>\n",
              "      <td>2019-12-31 15:30:00</td>\n",
              "      <td>KMSN</td>\n",
              "      <td>43.13</td>\n",
              "      <td>-89.35</td>\n",
              "      <td>261</td>\n",
              "      <td>2019-12-31 15:30:00</td>\n",
              "      <td>300.0</td>\n",
              "      <td>9.0</td>\n",
              "      <td>-SN</td>\n",
              "      <td>-4.0</td>\n",
              "      <td>-8.0</td>\n",
              "      <td>29.69</td>\n",
              "      <td>71</td>\n",
              "      <td>0</td>\n",
              "      <td>0</td>\n",
              "      <td>7.794229</td>\n",
              "      <td>-4.500000</td>\n",
              "      <td>12</td>\n",
              "      <td>1</td>\n",
              "    </tr>\n",
              "    <tr>\n",
              "      <th>175201</th>\n",
              "      <td>412971</td>\n",
              "      <td>2019-12-31 15:35:00</td>\n",
              "      <td>KMSN</td>\n",
              "      <td>43.13</td>\n",
              "      <td>-89.35</td>\n",
              "      <td>261</td>\n",
              "      <td>2019-12-31 15:35:00</td>\n",
              "      <td>300.0</td>\n",
              "      <td>8.0</td>\n",
              "      <td>-SN</td>\n",
              "      <td>-4.0</td>\n",
              "      <td>-8.0</td>\n",
              "      <td>29.69</td>\n",
              "      <td>71</td>\n",
              "      <td>0</td>\n",
              "      <td>0</td>\n",
              "      <td>6.928203</td>\n",
              "      <td>-4.000000</td>\n",
              "      <td>12</td>\n",
              "      <td>1</td>\n",
              "    </tr>\n",
              "    <tr>\n",
              "      <th>175202</th>\n",
              "      <td>412972</td>\n",
              "      <td>2019-12-31 15:40:00</td>\n",
              "      <td>KMSN</td>\n",
              "      <td>43.13</td>\n",
              "      <td>-89.35</td>\n",
              "      <td>261</td>\n",
              "      <td>2019-12-31 15:40:00</td>\n",
              "      <td>290.0</td>\n",
              "      <td>10.0</td>\n",
              "      <td>-SN</td>\n",
              "      <td>-4.0</td>\n",
              "      <td>-8.0</td>\n",
              "      <td>29.69</td>\n",
              "      <td>71</td>\n",
              "      <td>0</td>\n",
              "      <td>0</td>\n",
              "      <td>9.396926</td>\n",
              "      <td>-3.420201</td>\n",
              "      <td>12</td>\n",
              "      <td>1</td>\n",
              "    </tr>\n",
              "    <tr>\n",
              "      <th>175203</th>\n",
              "      <td>412973</td>\n",
              "      <td>2019-12-31 15:45:00</td>\n",
              "      <td>KMSN</td>\n",
              "      <td>43.13</td>\n",
              "      <td>-89.35</td>\n",
              "      <td>261</td>\n",
              "      <td>2019-12-31 15:45:00</td>\n",
              "      <td>290.0</td>\n",
              "      <td>6.0</td>\n",
              "      <td>-SN</td>\n",
              "      <td>-4.0</td>\n",
              "      <td>-7.0</td>\n",
              "      <td>29.69</td>\n",
              "      <td>71</td>\n",
              "      <td>0</td>\n",
              "      <td>0</td>\n",
              "      <td>5.638156</td>\n",
              "      <td>-2.052121</td>\n",
              "      <td>12</td>\n",
              "      <td>1</td>\n",
              "    </tr>\n",
              "  </tbody>\n",
              "</table>\n",
              "<p>175204 rows × 20 columns</p>\n",
              "</div>"
            ],
            "text/plain": [
              "        Unnamed: 0            date_time  ... month  fzn_or_liq\n",
              "0                1  2000-01-01 00:55:00  ...     1           1\n",
              "1                2  2000-01-01 01:00:00  ...     1           1\n",
              "2                3  2000-01-01 01:05:00  ...     1           1\n",
              "3                4  2000-01-01 01:10:00  ...     1           1\n",
              "4                5  2000-01-01 01:15:00  ...     1           1\n",
              "...            ...                  ...  ...   ...         ...\n",
              "175199      412969  2019-12-31 15:25:00  ...    12           1\n",
              "175200      412970  2019-12-31 15:30:00  ...    12           1\n",
              "175201      412971  2019-12-31 15:35:00  ...    12           1\n",
              "175202      412972  2019-12-31 15:40:00  ...    12           1\n",
              "175203      412973  2019-12-31 15:45:00  ...    12           1\n",
              "\n",
              "[175204 rows x 20 columns]"
            ]
          },
          "metadata": {
            "tags": []
          },
          "execution_count": 63
        }
      ]
    },
    {
      "cell_type": "code",
      "metadata": {
        "id": "fe3g1FfI5NUw",
        "colab_type": "code",
        "colab": {
          "base_uri": "https://localhost:8080/",
          "height": 204
        },
        "outputId": "869114db-07cb-4ec9-ea5d-3253f0dd6eaf"
      },
      "source": [
        "where_snow_rain = [i for i,x in enumerate(decoded_metar_dataset['current_wx1'].to_list()) if ('RA' in x) | ('SN' in x)]\n",
        "rain_snow = decoded_metar_dataset.iloc[where_snow_rain]\n",
        "rain_snow.index = pd.to_datetime(rain_snow.index)\n",
        "exclude_both = [i for i,x in enumerate(rasn['current_wx1'].to_list()) if 'SNRA' not in x]\n",
        "rain_snow = rain_snow.iloc[exclude_both]\n",
        "set(rain_snow['current_wx1'].to_list())"
      ],
      "execution_count": 64,
      "outputs": [
        {
          "output_type": "execute_result",
          "data": {
            "text/plain": [
              "{'+RA',\n",
              " '+SN',\n",
              " '+TSRA',\n",
              " '-FZRA',\n",
              " '-RA',\n",
              " '-SN',\n",
              " '-TSRA',\n",
              " 'FZRA',\n",
              " 'RA',\n",
              " 'SN',\n",
              " 'TSRA'}"
            ]
          },
          "metadata": {
            "tags": []
          },
          "execution_count": 64
        }
      ]
    },
    {
      "cell_type": "code",
      "metadata": {
        "id": "nAbKWx8A5QgG",
        "colab_type": "code",
        "colab": {
          "base_uri": "https://localhost:8080/",
          "height": 102
        },
        "outputId": "da0a2e14-22a7-44fc-b5a3-115acf9f2cc1"
      },
      "source": [
        "rain_snow['snow'] = 0\n",
        "where_snow = [i for i,x in enumerate(rain_snow['current_wx1'].to_list()) if 'SN' in x]\n",
        "rain_snow['snow'][where_snow] = 1\n",
        "\n",
        "rain_snow['day_of_year'] = rain_snow.index.dayofyear"
      ],
      "execution_count": 65,
      "outputs": [
        {
          "output_type": "stream",
          "text": [
            "/usr/local/lib/python3.6/dist-packages/ipykernel_launcher.py:3: SettingWithCopyWarning: \n",
            "A value is trying to be set on a copy of a slice from a DataFrame\n",
            "\n",
            "See the caveats in the documentation: https://pandas.pydata.org/pandas-docs/stable/user_guide/indexing.html#returning-a-view-versus-a-copy\n",
            "  This is separate from the ipykernel package so we can avoid doing imports until\n"
          ],
          "name": "stderr"
        }
      ]
    },
    {
      "cell_type": "code",
      "metadata": {
        "id": "FZhVcZO45bpF",
        "colab_type": "code",
        "colab": {}
      },
      "source": [
        "features = ['air_temperature', 'wind_speed', 'wind_direction',  \n",
        "            'dew_point_temperature', \n",
        "            'altimeter', 'eastward_wind', \n",
        "            'northward_wind', 'day_of_year',\n",
        "            'snow']\n",
        "\n",
        "rain_snow_sub = rain_snow.dropna(subset = features)\n",
        "train_X, valid_X, train_y, valid_y = train_test_split(rain_snow_sub[features[:-1]], rain_snow_sub['snow'], \n",
        "                                                  test_size = 0.3, random_state = 50)\n"
      ],
      "execution_count": 0,
      "outputs": []
    },
    {
      "cell_type": "code",
      "metadata": {
        "id": "4aJlWsvt5fsk",
        "colab_type": "code",
        "colab": {}
      },
      "source": [
        "dtree    = tree.DecisionTreeClassifier()\n",
        "model  = dtree.fit(train_X, train_y)\n",
        "prediction = model.predict(valid_X)\n",
        "\n",
        "valid_prob = model.predict_proba(valid_X)\n",
        "train_prob = model.predict_proba(train_X)"
      ],
      "execution_count": 0,
      "outputs": []
    },
    {
      "cell_type": "code",
      "metadata": {
        "id": "oGRLfhn_5ioT",
        "colab_type": "code",
        "colab": {}
      },
      "source": [
        "def get_climo(y, shape):\n",
        "    climo = (np.size((y == 1).values.nonzero()))/float(np.size(y))\n",
        "    prob  = np.zeros((shape))\n",
        "    prob[:,0] = 1-climo\n",
        "    prob[:,1] = climo\n",
        "\n",
        "    return prob"
      ],
      "execution_count": 0,
      "outputs": []
    },
    {
      "cell_type": "code",
      "metadata": {
        "id": "-B1CVyTG5irJ",
        "colab_type": "code",
        "colab": {}
      },
      "source": [
        "\n",
        "train_climo_prob = get_climo(train_y, train_prob.shape)\n",
        "valid_climo_prob = get_climo(valid_y, valid_prob.shape)\n",
        "bsscore_train = 1 - (brier_score_loss(train_y, train_prob[:,1])/brier_score_loss(train_y, train_climo_prob[:,1]))\n",
        "bsscore_valid = 1 - (brier_score_loss(valid_y, valid_prob[:,1])/brier_score_loss(valid_y, valid_climo_prob[:,1]))"
      ],
      "execution_count": 0,
      "outputs": []
    },
    {
      "cell_type": "code",
      "metadata": {
        "id": "XDuy1HDr5nSx",
        "colab_type": "code",
        "colab": {
          "base_uri": "https://localhost:8080/",
          "height": 51
        },
        "outputId": "bf722a19-a60b-479a-89f5-b3d637436467"
      },
      "source": [
        "print('Training Brier skill score: ' + str(bsscore_train))\n",
        "print('Validation Brier skill score: ' + str(bsscore_valid))"
      ],
      "execution_count": 71,
      "outputs": [
        {
          "output_type": "stream",
          "text": [
            "Training Brier skill score: 0.9969833900949442\n",
            "Validation Brier skill score: 0.9546344770308283\n"
          ],
          "name": "stdout"
        }
      ]
    },
    {
      "cell_type": "code",
      "metadata": {
        "id": "vI0jjIy45nVc",
        "colab_type": "code",
        "colab": {}
      },
      "source": [
        "#plotting\n",
        "#fpr, tpr, thresholds = roc_curve(valid_y, valid_prob[:,1])"
      ],
      "execution_count": 0,
      "outputs": []
    },
    {
      "cell_type": "code",
      "metadata": {
        "id": "BI-JgPTS5quD",
        "colab_type": "code",
        "colab": {}
      },
      "source": [
        "# plt.plot([0, 1], [0, 1], linestyle='--')\n",
        "# plt.plot(fpr, tpr)\n",
        "# plt.show()"
      ],
      "execution_count": 0,
      "outputs": []
    }
  ]
}