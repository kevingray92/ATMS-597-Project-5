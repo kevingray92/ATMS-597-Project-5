{
  "nbformat": 4,
  "nbformat_minor": 0,
  "metadata": {
    "colab": {
      "name": "Data_organization.ipynb",
      "provenance": [],
      "collapsed_sections": []
    },
    "kernelspec": {
      "name": "python3",
      "display_name": "Python 3"
    }
  },
  "cells": [
    {
      "cell_type": "code",
      "metadata": {
        "id": "sWvGKPgUDBCI",
        "colab_type": "code",
        "colab": {}
      },
      "source": [
        "# Import neccessary libraries\n",
        "from datetime import datetime\n",
        "import pandas as pd\n",
        "import numpy as np\n",
        "\n",
        "!pip install metpy\n",
        "from metpy.io import parse_metar_to_dataframe\n",
        "import glob"
      ],
      "execution_count": 0,
      "outputs": []
    },
    {
      "cell_type": "code",
      "metadata": {
        "id": "bhoBbOBqsTa2",
        "colab_type": "code",
        "colab": {}
      },
      "source": [
        " from google.colab import drive\n",
        "drive.mount('/content/drive')"
      ],
      "execution_count": 0,
      "outputs": []
    },
    {
      "cell_type": "code",
      "metadata": {
        "id": "H9bnhkmIDD_X",
        "colab_type": "code",
        "colab": {}
      },
      "source": [
        "# Read in the data\n",
        "!wget 'ftp://ftp.ncdc.noaa.gov/pub/data/asos-fivemin/6401-2000/64010KMSN*.dat'\n",
        "!wget 'ftp://ftp.ncdc.noaa.gov/pub/data/asos-fivemin/6401-2001/64010KMSN*.dat'\n",
        "!wget 'ftp://ftp.ncdc.noaa.gov/pub/data/asos-fivemin/6401-2002/64010KMSN*.dat'\n",
        "!wget 'ftp://ftp.ncdc.noaa.gov/pub/data/asos-fivemin/6401-2003/64010KMSN*.dat'\n",
        "!wget 'ftp://ftp.ncdc.noaa.gov/pub/data/asos-fivemin/6401-2004/64010KMSN*.dat'\n",
        "!wget 'ftp://ftp.ncdc.noaa.gov/pub/data/asos-fivemin/6401-2005/64010KMSN*.dat'\n",
        "!wget 'ftp://ftp.ncdc.noaa.gov/pub/data/asos-fivemin/6401-2006/64010KMSN*.dat'\n",
        "!wget 'ftp://ftp.ncdc.noaa.gov/pub/data/asos-fivemin/6401-2007/64010KMSN*.dat'\n",
        "!wget 'ftp://ftp.ncdc.noaa.gov/pub/data/asos-fivemin/6401-2008/64010KMSN*.dat'\n",
        "!wget 'ftp://ftp.ncdc.noaa.gov/pub/data/asos-fivemin/6401-2009/64010KMSN*.dat'\n",
        "!wget 'ftp://ftp.ncdc.noaa.gov/pub/data/asos-fivemin/6401-2010/64010KMSN*.dat'\n",
        "!wget 'ftp://ftp.ncdc.noaa.gov/pub/data/asos-fivemin/6401-2011/64010KMSN*.dat'\n",
        "!wget 'ftp://ftp.ncdc.noaa.gov/pub/data/asos-fivemin/6401-2012/64010KMSN*.dat'\n",
        "!wget 'ftp://ftp.ncdc.noaa.gov/pub/data/asos-fivemin/6401-2013/64010KMSN*.dat'\n",
        "!wget 'ftp://ftp.ncdc.noaa.gov/pub/data/asos-fivemin/6401-2014/64010KMSN*.dat'\n",
        "!wget 'ftp://ftp.ncdc.noaa.gov/pub/data/asos-fivemin/6401-2015/64010KMSN*.dat'\n",
        "!wget 'ftp://ftp.ncdc.noaa.gov/pub/data/asos-fivemin/6401-2016/64010KMSN*.dat'\n",
        "!wget 'ftp://ftp.ncdc.noaa.gov/pub/data/asos-fivemin/6401-2017/64010KMSN*.dat'\n",
        "!wget 'ftp://ftp.ncdc.noaa.gov/pub/data/asos-fivemin/6401-2018/64010KMSN*.dat'\n",
        "!wget 'ftp://ftp.ncdc.noaa.gov/pub/data/asos-fivemin/6401-2019/64010KMSN*.dat'\n",
        "!wget 'ftp://ftp.ncdc.noaa.gov/pub/data/asos-fivemin/6401-2020/64010KMSN*.dat'"
      ],
      "execution_count": 0,
      "outputs": []
    },
    {
      "cell_type": "code",
      "metadata": {
        "id": "nUGBTeKz5LTG",
        "colab_type": "code",
        "colab": {}
      },
      "source": [
        "\n",
        "def parse_metar_file(file, wx_subset=True):\n",
        "    \"\"\"\n",
        "    Parses METAR file from NCDC\n",
        "\n",
        "    Input:\n",
        "    --------\n",
        "    file = Text file downloaded from NCDC\n",
        "\n",
        "    wx_subset = Flag to determine whether or not to drop non-current weather obs (if True, only returns obs with observed weather)\n",
        "\n",
        "    Output:\n",
        "    --------\n",
        "    df = Pandas dataframe filtered for times where current weather is not 'nan'\n",
        "    \"\"\"\n",
        "\n",
        "    # Read in the file using Pandas\n",
        "    df = pd.read_csv(file, header=None)\n",
        "\n",
        "    # Pull the timestamp from the filename\n",
        "    timestamp = datetime.strptime(file[-10:], '%Y%m.dat')\n",
        "\n",
        "    # Iterrate over rows to parse METARS\n",
        "    df_list = []\n",
        "    for index, row in df.iterrows():\n",
        "        try:\n",
        "            df_list.append(parse_metar_to_dataframe(row.values[0][52:], year=timestamp.year, month=timestamp.month))\n",
        "        except:\n",
        "            print('Error with METAR: ', row.values[0][52:])\n",
        "    #\n",
        "    merged_df = pd.concat(df_list)\n",
        "\n",
        "    # Drop datasets that do not include current weather\n",
        "    merged_df = merged_df.dropna(subset=['current_wx1'])\n",
        "\n",
        "    # Change the index to datetime\n",
        "    merged_df.index = merged_df.date_time\n",
        "\n",
        "    # Return the merged dataset sorted by datetime\n",
        "    return merged_df.sort_index()\n",
        "\n",
        "\n"
      ],
      "execution_count": 0,
      "outputs": []
    },
    {
      "cell_type": "code",
      "metadata": {
        "id": "pPfr6GcMvfrX",
        "colab_type": "code",
        "colab": {}
      },
      "source": [
        "# Find all files in the data directory\n",
        "files = sorted(glob.glob('*.dat'))\n",
        "\n",
        "# Create a list to store the dataframes in\n",
        "merged_datasets = []\n"
      ],
      "execution_count": 0,
      "outputs": []
    },
    {
      "cell_type": "code",
      "metadata": {
        "id": "IPbMOpYduW2Z",
        "colab_type": "code",
        "colab": {}
      },
      "source": [
        "\n",
        "# Loop through and parse the different datasets\n",
        "for file in files:\n",
        "    print(file[-10:])\n",
        "    try:\n",
        "        merged_datasets.append(parse_metar_file(file))\n",
        "    except:\n",
        "        print(\"Error with :\", file)\n",
        "\n"
      ],
      "execution_count": 0,
      "outputs": []
    },
    {
      "cell_type": "code",
      "metadata": {
        "id": "XT5dw00QvNly",
        "colab_type": "code",
        "colab": {}
      },
      "source": [
        "# Return the cleaned dataset\n",
        "#clean_df = (merged_datasets)\n",
        "decoded_metar_master = pd.concat(merged_datasets)\n",
        "\n",
        "## Save the file to memory\n",
        "#clean_df.to_csv('decoded_metar_dataset.csv')\n",
        "# Print out the resulting dataset\n",
        "decoded_metar_master"
      ],
      "execution_count": 0,
      "outputs": []
    },
    {
      "cell_type": "code",
      "metadata": {
        "id": "-DuI7Lf_vm9x",
        "colab_type": "code",
        "colab": {}
      },
      "source": [
        "# Create month column and add to the dataframe\n",
        "time = pd.to_datetime(decoded_metar_master['date_time'])\n",
        "decoded_metar_master['month'] = time.dt.month\n",
        "decoded_metar_master"
      ],
      "execution_count": 0,
      "outputs": []
    },
    {
      "cell_type": "code",
      "metadata": {
        "id": "nNswf7aJ-xMs",
        "colab_type": "code",
        "colab": {}
      },
      "source": [
        "#decoded_metar_master = decoded_metar_master.dropna(axis=0, subset=['current_wx1','air_temperature'])\n",
        "\n",
        "## Drop columns we don't plan on using or have too many NaNs\n",
        "decoded_metar_master = decoded_metar_master.drop(['low_cloud_type',\t'low_cloud_level',\t'medium_cloud_type',\t'medium_cloud_level',\t'high_cloud_type',\t'high_cloud_level',\t'highest_cloud_type',\t'highest_cloud_level',\t'cloud_coverage', 'air_pressure_at_sea_level'], axis=1)\n",
        "\n",
        "#decoded_metar_master = decoded_metar_master.dropna(axis=0)"
      ],
      "execution_count": 0,
      "outputs": []
    },
    {
      "cell_type": "code",
      "metadata": {
        "id": "2S5GfD25-0Yp",
        "colab_type": "code",
        "colab": {}
      },
      "source": [
        "#convert current_wx columns to list and also check how many rows we have \n",
        "current_wx1 = decoded_metar_master['current_wx1'].to_list()\n",
        "print(len(current_wx1))\n",
        "current_wx2 = decoded_metar_master['current_wx2'].to_list()\n",
        "print(len(current_wx2))\n",
        "current_wx3 = decoded_metar_master['current_wx3'].to_list()\n",
        "print(len(current_wx3))\n",
        "\n",
        "#Check to make sure we have some frozen AND liquid weather reported\n",
        "print(current_wx1[0:50])"
      ],
      "execution_count": 0,
      "outputs": []
    },
    {
      "cell_type": "code",
      "metadata": {
        "id": "crphrSW2-2y5",
        "colab_type": "code",
        "colab": {}
      },
      "source": [
        "# List all of the current weather identifiers to identify non-precipitation identifiers to be removed\n",
        "print(decoded_metar_master.current_wx1.unique())"
      ],
      "execution_count": 0,
      "outputs": []
    },
    {
      "cell_type": "code",
      "metadata": {
        "id": "X6drVTFU-5gg",
        "colab_type": "code",
        "colab": {}
      },
      "source": [
        "# Create non-precip variables list to replace with NaNs\n",
        "non_precip = ['HZ', 'BR', 'FG', '-FZDZ', 'BL', 'TS', 'VCTS', 'MIFG', 'FZFG', '-SNDZ', 'VCFG', '+TS', '-TS', 'FZDZ', '-TSDZ']"
      ],
      "execution_count": 0,
      "outputs": []
    },
    {
      "cell_type": "code",
      "metadata": {
        "id": "JA5JOQep-7-Y",
        "colab_type": "code",
        "colab": {}
      },
      "source": [
        "# Replace non-precip variables with NaNs\n",
        "decoded_metar_master.replace(non_precip, np.nan, inplace=True)\n",
        "### Then drop current_wx2 and current_wx3 because they hold a lot of NaNs\n",
        "decoded_metar_master = decoded_metar_master.drop(['current_wx2',\t'current_wx3'], axis=1)\n",
        "### Then drop all other rows with NaNs\n",
        "decoded_metar_master = decoded_metar_master.dropna(axis=0)\n",
        "### Check how many rows we are left with after cleaning up the dataframe\n",
        "current_wx1 = decoded_metar_master['current_wx1'].to_list()\n",
        "print(len(current_wx1))"
      ],
      "execution_count": 0,
      "outputs": []
    },
    {
      "cell_type": "code",
      "metadata": {
        "id": "HpAp7tbf--1m",
        "colab_type": "code",
        "colab": {}
      },
      "source": [
        "### List of frozen and liquid precip options\n",
        "fzn_list = ['-SNRA','SNRA','+SNRA','-SN','SN','+SN', '-TSSN', 'TSSN', '+TSSN']\n",
        "liq_list = ['-RA','RA','+RA','-TS','TS','+TS','-TSRA','TSRA','+TSRA','-FZRA','FZRA','+FZRA']"
      ],
      "execution_count": 0,
      "outputs": []
    },
    {
      "cell_type": "code",
      "metadata": {
        "id": "bgWoRh3P_BR2",
        "colab_type": "code",
        "colab": {}
      },
      "source": [
        "### Set up a list to hold binary values (1 for frozen, 0 for liquid)\n",
        "binary_list = []\n",
        "\n",
        "### Loop over current_wx observations and determin if any are frozen precip. If so, set binary variable to 1. If not, set binary variable to 0.\n",
        "for i in range(len(current_wx1)):\n",
        "    if (current_wx1[i] in fzn_list) or (current_wx2[i] in fzn_list) or (current_wx3[i] in fzn_list):\n",
        "        binary_list.append(1)\n",
        "    else:\n",
        "        binary_list.append(0)\n",
        "\n",
        "### Fill a new column called 'fzn_or_liq' with the binary values.\n",
        "decoded_metar_master['fzn_or_liq'] = binary_list\n"
      ],
      "execution_count": 0,
      "outputs": []
    },
    {
      "cell_type": "code",
      "metadata": {
        "id": "AUqIJAE3_EQh",
        "colab_type": "code",
        "colab": {}
      },
      "source": [
        "# Double check remaining parameters are correct and all precipitation\n",
        "decoded_metar_master.current_wx1.unique()"
      ],
      "execution_count": 0,
      "outputs": []
    },
    {
      "cell_type": "code",
      "metadata": {
        "id": "07WzhXuQ_H6h",
        "colab_type": "code",
        "colab": {}
      },
      "source": [
        "decoded_metar_master"
      ],
      "execution_count": 0,
      "outputs": []
    },
    {
      "cell_type": "code",
      "metadata": {
        "id": "NQ1Tqe-f_InZ",
        "colab_type": "code",
        "colab": {}
      },
      "source": [
        "# Save the final data to a csv file\n",
        "decoded_metar_master.to_csv('/content/drive/My Drive/decoded_metar_FINAL.csv')"
      ],
      "execution_count": 0,
      "outputs": []
    },
    {
      "cell_type": "code",
      "metadata": {
        "id": "eTaDusIR_PCl",
        "colab_type": "code",
        "colab": {}
      },
      "source": [
        ""
      ],
      "execution_count": 0,
      "outputs": []
    }
  ]
}