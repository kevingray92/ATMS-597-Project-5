{
  "nbformat": 4,
  "nbformat_minor": 0,
  "metadata": {
    "colab": {
      "name": "Project_5_Group_C_Supervised_Classification",
      "provenance": []
    },
    "kernelspec": {
      "name": "python3",
      "display_name": "Python 3"
    }
  },
  "cells": [
    {
      "cell_type": "markdown",
      "metadata": {
        "id": "PVsNNNiZiaq-",
        "colab_type": "text"
      },
      "source": [
        "# **Data Acquisition and Organization**"
      ]
    },
    {
      "cell_type": "code",
      "metadata": {
        "id": "PFVCQ_QWeroe",
        "colab_type": "code",
        "colab": {}
      },
      "source": [
        "# Import neccessary libraries\n",
        "from datetime import datetime\n",
        "import pandas as pd\n",
        "import numpy as np\n",
        "\n",
        "!pip install metpy\n",
        "from metpy.io import parse_metar_to_dataframe\n",
        "import glob"
      ],
      "execution_count": 0,
      "outputs": []
    },
    {
      "cell_type": "code",
      "metadata": {
        "id": "VBgu3ql5ftK3",
        "colab_type": "code",
        "colab": {}
      },
      "source": [
        " from google.colab import drive\n",
        "drive.mount('/content/drive')"
      ],
      "execution_count": 0,
      "outputs": []
    },
    {
      "cell_type": "code",
      "metadata": {
        "id": "RkFBhvAkfvMJ",
        "colab_type": "code",
        "colab": {}
      },
      "source": [
        "# Read in the data by month\n",
        "!wget 'ftp://ftp.ncdc.noaa.gov/pub/data/asos-fivemin/6401-2000/64010KMSN*.dat'\n",
        "!wget 'ftp://ftp.ncdc.noaa.gov/pub/data/asos-fivemin/6401-2001/64010KMSN*.dat'\n",
        "!wget 'ftp://ftp.ncdc.noaa.gov/pub/data/asos-fivemin/6401-2002/64010KMSN*.dat'\n",
        "!wget 'ftp://ftp.ncdc.noaa.gov/pub/data/asos-fivemin/6401-2003/64010KMSN*.dat'\n",
        "!wget 'ftp://ftp.ncdc.noaa.gov/pub/data/asos-fivemin/6401-2004/64010KMSN*.dat'\n",
        "!wget 'ftp://ftp.ncdc.noaa.gov/pub/data/asos-fivemin/6401-2005/64010KMSN*.dat'\n",
        "!wget 'ftp://ftp.ncdc.noaa.gov/pub/data/asos-fivemin/6401-2006/64010KMSN*.dat'\n",
        "!wget 'ftp://ftp.ncdc.noaa.gov/pub/data/asos-fivemin/6401-2007/64010KMSN*.dat'\n",
        "!wget 'ftp://ftp.ncdc.noaa.gov/pub/data/asos-fivemin/6401-2008/64010KMSN*.dat'\n",
        "!wget 'ftp://ftp.ncdc.noaa.gov/pub/data/asos-fivemin/6401-2009/64010KMSN*.dat'\n",
        "!wget 'ftp://ftp.ncdc.noaa.gov/pub/data/asos-fivemin/6401-2010/64010KMSN*.dat'\n",
        "!wget 'ftp://ftp.ncdc.noaa.gov/pub/data/asos-fivemin/6401-2011/64010KMSN*.dat'\n",
        "!wget 'ftp://ftp.ncdc.noaa.gov/pub/data/asos-fivemin/6401-2012/64010KMSN*.dat'\n",
        "!wget 'ftp://ftp.ncdc.noaa.gov/pub/data/asos-fivemin/6401-2013/64010KMSN*.dat'\n",
        "!wget 'ftp://ftp.ncdc.noaa.gov/pub/data/asos-fivemin/6401-2014/64010KMSN*.dat'\n",
        "!wget 'ftp://ftp.ncdc.noaa.gov/pub/data/asos-fivemin/6401-2015/64010KMSN*.dat'\n",
        "!wget 'ftp://ftp.ncdc.noaa.gov/pub/data/asos-fivemin/6401-2016/64010KMSN*.dat'\n",
        "!wget 'ftp://ftp.ncdc.noaa.gov/pub/data/asos-fivemin/6401-2017/64010KMSN*.dat'\n",
        "!wget 'ftp://ftp.ncdc.noaa.gov/pub/data/asos-fivemin/6401-2018/64010KMSN*.dat'\n",
        "!wget 'ftp://ftp.ncdc.noaa.gov/pub/data/asos-fivemin/6401-2019/64010KMSN*.dat'\n",
        "!wget 'ftp://ftp.ncdc.noaa.gov/pub/data/asos-fivemin/6401-2020/64010KMSN*.dat'"
      ],
      "execution_count": 0,
      "outputs": []
    },
    {
      "cell_type": "code",
      "metadata": {
        "id": "DkcpFbd4f2iW",
        "colab_type": "code",
        "colab": {}
      },
      "source": [
        "def parse_metar_file(file, wx_subset=True):\n",
        "    \"\"\"\n",
        "    Parses METAR file from NCDC\n",
        "\n",
        "    Input:\n",
        "    --------\n",
        "    file = Text file downloaded from NCDC\n",
        "\n",
        "    wx_subset = Flag to determine whether or not to drop non-current weather obs (if True, only returns obs with observed weather)\n",
        "\n",
        "    Output:\n",
        "    --------\n",
        "    df = Pandas dataframe filtered for times where current weather is not 'nan'\n",
        "    \"\"\"\n",
        "\n",
        "    # Read in the file using Pandas\n",
        "    df = pd.read_csv(file, header=None)\n",
        "\n",
        "    # Pull the timestamp from the filename\n",
        "    timestamp = datetime.strptime(file[-10:], '%Y%m.dat')\n",
        "\n",
        "    # Iterrate over rows to parse METARS\n",
        "    df_list = []\n",
        "    for index, row in df.iterrows():\n",
        "        try:\n",
        "            df_list.append(parse_metar_to_dataframe(row.values[0][52:], year=timestamp.year, month=timestamp.month))\n",
        "        except:\n",
        "            print('Error with METAR: ', row.values[0][52:])\n",
        "    #\n",
        "    merged_df = pd.concat(df_list)\n",
        "\n",
        "    # Drop datasets that do not include current weather\n",
        "    merged_df = merged_df.dropna(subset=['current_wx1'])\n",
        "\n",
        "    # Change the index to datetime\n",
        "    merged_df.index = merged_df.date_time\n",
        "\n",
        "    # Return the merged dataset sorted by datetime\n",
        "    return merged_df.sort_index()"
      ],
      "execution_count": 0,
      "outputs": []
    },
    {
      "cell_type": "code",
      "metadata": {
        "id": "2X6Y_dAwf6C4",
        "colab_type": "code",
        "colab": {}
      },
      "source": [
        "# Find all files in the data directory\n",
        "files = sorted(glob.glob('*.dat'))\n",
        "\n",
        "# Create a list to store the dataframes in\n",
        "merged_datasets = []"
      ],
      "execution_count": 0,
      "outputs": []
    },
    {
      "cell_type": "code",
      "metadata": {
        "id": "2utBF1Mzf7ys",
        "colab_type": "code",
        "colab": {}
      },
      "source": [
        "# Loop through and parse the different datasets\n",
        "for file in files:\n",
        "    print(file[-10:])\n",
        "    try:\n",
        "        merged_datasets.append(parse_metar_file(file))\n",
        "    except:\n",
        "        print(\"Error with :\", file)\n"
      ],
      "execution_count": 0,
      "outputs": []
    },
    {
      "cell_type": "code",
      "metadata": {
        "id": "JMIlD1qCf_hz",
        "colab_type": "code",
        "colab": {}
      },
      "source": [
        "# Return the cleaned dataset\n",
        "#clean_df = (merged_datasets)\n",
        "decoded_metar_master = pd.concat(merged_datasets)\n",
        "\n",
        "## Save the file to memory\n",
        "#clean_df.to_csv('decoded_metar_dataset.csv')\n",
        "# Print out the resulting dataset\n",
        "decoded_metar_master"
      ],
      "execution_count": 0,
      "outputs": []
    },
    {
      "cell_type": "code",
      "metadata": {
        "id": "F_dL0CQLgB8M",
        "colab_type": "code",
        "colab": {}
      },
      "source": [
        "# Create month column and add to the dataframe\n",
        "time = pd.to_datetime(decoded_metar_master['date_time'])\n",
        "decoded_metar_master['month'] = time.dt.month\n",
        "decoded_metar_master"
      ],
      "execution_count": 0,
      "outputs": []
    },
    {
      "cell_type": "code",
      "metadata": {
        "id": "DRej0CovgD-x",
        "colab_type": "code",
        "colab": {}
      },
      "source": [
        "## Drop columns we don't plan on using or have too many NaNs\n",
        "decoded_metar_master = decoded_metar_master.drop(['low_cloud_type',\t'low_cloud_level',\t'medium_cloud_type',\t'medium_cloud_level',\t'high_cloud_type',\t'high_cloud_level',\t'highest_cloud_type',\t'highest_cloud_level',\t'cloud_coverage', 'air_pressure_at_sea_level'], axis=1)\n"
      ],
      "execution_count": 0,
      "outputs": []
    },
    {
      "cell_type": "code",
      "metadata": {
        "id": "C4cbCnTDgLEO",
        "colab_type": "code",
        "colab": {}
      },
      "source": [
        "#convert current_wx columns to list and also check how many rows we have \n",
        "current_wx1 = decoded_metar_master['current_wx1'].to_list()\n",
        "print(len(current_wx1))\n",
        "current_wx2 = decoded_metar_master['current_wx2'].to_list()\n",
        "print(len(current_wx2))\n",
        "current_wx3 = decoded_metar_master['current_wx3'].to_list()\n",
        "print(len(current_wx3))\n",
        "\n",
        "#Check to make sure we have some frozen AND liquid weather reported\n",
        "print(current_wx1[0:50])"
      ],
      "execution_count": 0,
      "outputs": []
    },
    {
      "cell_type": "code",
      "metadata": {
        "id": "5CUHv1WHgN2l",
        "colab_type": "code",
        "colab": {}
      },
      "source": [
        "# List all of the current weather identifiers to identify non-precipitation identifiers to be removed\n",
        "print(decoded_metar_master.current_wx1.unique())"
      ],
      "execution_count": 0,
      "outputs": []
    },
    {
      "cell_type": "code",
      "metadata": {
        "id": "XgiqTCu1gQL-",
        "colab_type": "code",
        "colab": {}
      },
      "source": [
        "# Create non-precip variables list to replace with NaNs\n",
        "non_precip = ['HZ', 'BR', 'FG', '-FZDZ', 'BL', 'TS', 'VCTS', 'MIFG', 'FZFG', '-SNDZ', 'VCFG', '+TS', '-TS', 'FZDZ', '-TSDZ']"
      ],
      "execution_count": 0,
      "outputs": []
    },
    {
      "cell_type": "code",
      "metadata": {
        "id": "r_C4ZjTIgSgC",
        "colab_type": "code",
        "colab": {}
      },
      "source": [
        "# Replace non-precip variables with NaNs\n",
        "decoded_metar_master.replace(non_precip, np.nan, inplace=True)\n",
        "### Then drop current_wx2 and current_wx3 because they hold a lot of NaNs\n",
        "decoded_metar_master = decoded_metar_master.drop(['current_wx2',\t'current_wx3'], axis=1)\n",
        "### Then drop all other rows with NaNs\n",
        "decoded_metar_master = decoded_metar_master.dropna(axis=0)\n",
        "### Check how many rows we are left with after cleaning up the dataframe\n",
        "current_wx1 = decoded_metar_master['current_wx1'].to_list()\n",
        "print(len(current_wx1))"
      ],
      "execution_count": 0,
      "outputs": []
    },
    {
      "cell_type": "code",
      "metadata": {
        "id": "ZftHX4rQgUjQ",
        "colab_type": "code",
        "colab": {}
      },
      "source": [
        "### List of frozen and liquid precip options\n",
        "fzn_list = ['-SNRA','SNRA','+SNRA','-SN','SN','+SN', '-TSSN', 'TSSN', '+TSSN']\n",
        "liq_list = ['-RA','RA','+RA','-TS','TS','+TS','-TSRA','TSRA','+TSRA','-FZRA','FZRA','+FZRA']"
      ],
      "execution_count": 0,
      "outputs": []
    },
    {
      "cell_type": "code",
      "metadata": {
        "id": "z00Ju4EIga8Z",
        "colab_type": "code",
        "colab": {}
      },
      "source": [
        "### Set up a list to hold binary values (1 for frozen, 0 for liquid)\n",
        "binary_list = []\n",
        "\n",
        "### Loop over current_wx observations and determin if any are frozen precip. If so, set binary variable to 1. If not, set binary variable to 0.\n",
        "for i in range(len(current_wx1)):\n",
        "    if (current_wx1[i] in fzn_list) or (current_wx2[i] in fzn_list) or (current_wx3[i] in fzn_list):\n",
        "        binary_list.append(1)\n",
        "    else:\n",
        "        binary_list.append(0)\n",
        "\n",
        "### Fill a new column called 'fzn_or_liq' with the binary values.\n",
        "decoded_metar_master['fzn_or_liq'] = binary_list"
      ],
      "execution_count": 0,
      "outputs": []
    },
    {
      "cell_type": "code",
      "metadata": {
        "id": "Bj_46o1YgdcR",
        "colab_type": "code",
        "colab": {}
      },
      "source": [
        "# Double check remaining parameters are correct and all precipitation\n",
        "decoded_metar_master.current_wx1.unique()"
      ],
      "execution_count": 0,
      "outputs": []
    },
    {
      "cell_type": "code",
      "metadata": {
        "id": "SPV8i-L9ghRN",
        "colab_type": "code",
        "colab": {}
      },
      "source": [
        "# View final dataframe\n",
        "decoded_metar_master"
      ],
      "execution_count": 0,
      "outputs": []
    },
    {
      "cell_type": "code",
      "metadata": {
        "id": "r4RUaoQUgkja",
        "colab_type": "code",
        "colab": {}
      },
      "source": [
        "# Save the final data to a csv file, THIS IS IN THE REPOSITORY FOR EASY ACCESS FOR THE MODEL TO AVOID RUNNING THE ABOVE MORE THAN ONCE\n",
        "decoded_metar_master.to_csv('/content/drive/My Drive/decoded_metar_FINAL.csv')"
      ],
      "execution_count": 0,
      "outputs": []
    },
    {
      "cell_type": "markdown",
      "metadata": {
        "id": "9rQsC9uIi7U_",
        "colab_type": "text"
      },
      "source": [
        "# **Basic Logistic Regression Model**"
      ]
    },
    {
      "cell_type": "code",
      "metadata": {
        "id": "FgXzvR9Qgy9k",
        "colab_type": "code",
        "colab": {}
      },
      "source": [
        "### Read all years data file\n",
        "filename = '/content/drive/My Drive/decoded_metar_FINAL.csv' #Michael filepath\n",
        "#filename = 'drive/My Drive/Colab Notebooks/ATMS-597/Project05/decoded_metar_FINAL.csv' #Kevin filepath\n",
        "decoded_metar_master = pd.read_csv(filename,dtype={'current_wx1':str})"
      ],
      "execution_count": 0,
      "outputs": []
    },
    {
      "cell_type": "code",
      "metadata": {
        "id": "SZWkU2C9hG1y",
        "colab_type": "code",
        "colab": {}
      },
      "source": [
        "# View the dataframe\n",
        "decoded_metar_master"
      ],
      "execution_count": 0,
      "outputs": []
    },
    {
      "cell_type": "code",
      "metadata": {
        "id": "FtvaJ614hNnK",
        "colab_type": "code",
        "colab": {}
      },
      "source": [
        "### Split data 70/30 between training/testing\n",
        "from sklearn.model_selection import train_test_split\n",
        "#predictor_cols = ['air_temperature']\n",
        "predictor_cols = ['air_temperature', 'wind_direction', 'wind_speed', 'dew_point_temperature', 'eastward_wind', 'northward_wind', 'month']\n",
        "target_cols = ['fzn_or_liq']\n",
        "X = decoded_metar_master[predictor_cols]\n",
        "Y = decoded_metar_master[target_cols]\n",
        "training_predictor, test_predictor, training_target, test_target = train_test_split(X, Y, test_size=0.3)"
      ],
      "execution_count": 0,
      "outputs": []
    },
    {
      "cell_type": "code",
      "metadata": {
        "id": "RzXrIKwdhQNe",
        "colab_type": "code",
        "colab": {}
      },
      "source": [
        "# Import needed sklearn modules\n",
        "from sklearn.linear_model import LogisticRegression"
      ],
      "execution_count": 0,
      "outputs": []
    },
    {
      "cell_type": "code",
      "metadata": {
        "id": "Qjlm0vDzhUB2",
        "colab_type": "code",
        "colab": {}
      },
      "source": [
        "# RUN THE TEST/TRAIN SPLIT CELL AND THIS CELL AGAIN WITH ITERATION FAILURE\n",
        "# Initiate the model using the default parameters\n",
        "logreg = LogisticRegression()\n",
        "\n",
        "# Fit the model\n",
        "#logreg.fit(training_predictor_array.reshape(-1,1), training_target['fzn_or_liq'])\n",
        "logreg.fit(training_predictor, training_target['fzn_or_liq'])\n",
        "\n",
        "# Predictions\n",
        "ptype_predict=logreg.predict(test_predictor)\n",
        "predsprob = logreg.predict_proba(test_predictor)"
      ],
      "execution_count": 0,
      "outputs": []
    },
    {
      "cell_type": "code",
      "metadata": {
        "id": "xjnjvEGBhbS2",
        "colab_type": "code",
        "colab": {}
      },
      "source": [
        "#print(len(predsprob))\n",
        "prob0 = []\n",
        "prob1 = []\n",
        "for i in range(len(predsprob)):\n",
        "    prob0.append(predsprob[i][0])\n",
        "    prob1.append(predsprob[i][1])"
      ],
      "execution_count": 0,
      "outputs": []
    },
    {
      "cell_type": "code",
      "metadata": {
        "id": "IH6tOGZBhdnv",
        "colab_type": "code",
        "colab": {}
      },
      "source": [
        "# Check skill with confusion matrix\n",
        "from sklearn import metrics\n",
        "cnf_matrix = metrics.confusion_matrix(test_target['fzn_or_liq'], ptype_predict)\n",
        "cnf_matrix"
      ],
      "execution_count": 0,
      "outputs": []
    },
    {
      "cell_type": "code",
      "metadata": {
        "id": "giHyIK7Shf3N",
        "colab_type": "code",
        "colab": {}
      },
      "source": [
        "# Plot confusion matrix\n",
        "\n",
        "import numpy as np\n",
        "import matplotlib.pyplot as plt\n",
        "import seaborn as sns\n",
        "%matplotlib inline\n",
        "\n",
        "class_names=[0,1] # name  of classes\n",
        "fig, ax = plt.subplots()\n",
        "tick_marks = np.arange(len(class_names))\n",
        "plt.xticks(tick_marks, class_names)\n",
        "plt.yticks(tick_marks, class_names)\n",
        "# create heatmap\n",
        "sns.heatmap(pd.DataFrame(cnf_matrix), annot=True, cmap=\"YlGnBu\" ,fmt='g')\n",
        "ax.xaxis.set_label_position(\"top\")\n",
        "plt.tight_layout()\n",
        "plt.title('Confusion matrix', y=1.1)\n",
        "plt.ylabel('Actual label')\n",
        "plt.xlabel('Predicted label')"
      ],
      "execution_count": 0,
      "outputs": []
    },
    {
      "cell_type": "code",
      "metadata": {
        "id": "09xxwtOMhkUi",
        "colab_type": "code",
        "colab": {}
      },
      "source": [
        "# Other performance metrics\n",
        "\n",
        "#Jaccard Index, want this to be close to one\n",
        "from sklearn.metrics import jaccard_score\n",
        "j_index = jaccard_score(y_true=test_target['fzn_or_liq'],y_pred=ptype_predict)\n",
        "round(j_index,2)\n",
        "print('j_index:',j_index)\n",
        "\n",
        "# F1-score\n",
        "from sklearn.metrics import f1_score\n",
        "f1 = f1_score(test_target['fzn_or_liq'], ptype_predict)\n",
        "print('f1 score',f1)\n",
        "\n",
        "# Brier skill score\n",
        "##from sklearn.metrics import brier_score_loss\n",
        "##log_score = brier_score_loss((test_target['fzn_or_liq'].values).reshape(-1,1), predsprob[:][0])\n",
        "##print('Brier:',log_score)\n",
        "from sklearn.metrics import brier_score_loss\n",
        "brier_score = brier_score_loss(test_target['fzn_or_liq'],prob1)\n",
        "print('Brier:',brier_score)\n",
        "\n",
        "# Precision score\n",
        "from sklearn.metrics import precision_score\n",
        "precision_score = precision_score(test_target['fzn_or_liq'], ptype_predict)\n",
        "print('precision score:', precision_score)"
      ],
      "execution_count": 0,
      "outputs": []
    },
    {
      "cell_type": "code",
      "metadata": {
        "id": "KUtQqhuvhnDn",
        "colab_type": "code",
        "colab": {}
      },
      "source": [
        "### Get the climatology of fzn_or_liq\n",
        "a = decoded_metar_master['fzn_or_liq']\n",
        "counts = a.value_counts()\n",
        "totalcounts = counts[0]+counts[1]\n",
        "prcntliq = counts[0]/totalcounts\n",
        "prcntfzn = counts[1]/totalcounts\n",
        "print('Percent liquid reports:',prcntliq)\n",
        "print('Percent frozen reports:',prcntfzn)"
      ],
      "execution_count": 0,
      "outputs": []
    },
    {
      "cell_type": "code",
      "metadata": {
        "id": "ZTMFAaUZhpE5",
        "colab_type": "code",
        "colab": {}
      },
      "source": [
        "### Now make a new artificial probability lists filled with climatology values\n",
        "#print(len(predsprob))\n",
        "probCLIMO0 = []\n",
        "probCLIMO1 = []\n",
        "for i in range(len(predsprob)):\n",
        "    probCLIMO0.append(prcntliq)\n",
        "    probCLIMO1.append(prcntfzn)\n",
        "\n",
        "\n",
        "### Get Brier score for this reference prediction\n",
        "# Brier skill score\n",
        "##from sklearn.metrics import brier_score_loss\n",
        "##log_score = brier_score_loss((test_target['fzn_or_liq'].values).reshape(-1,1), predsprob[:][0])\n",
        "##print('Brier:',log_score)\n",
        "from sklearn.metrics import brier_score_loss\n",
        "brier_score_reference = brier_score_loss(test_target['fzn_or_liq'],probCLIMO1)\n",
        "print('Reference Brier:',brier_score)"
      ],
      "execution_count": 0,
      "outputs": []
    },
    {
      "cell_type": "code",
      "metadata": {
        "id": "7_2V7ysvhrWH",
        "colab_type": "code",
        "colab": {}
      },
      "source": [
        "### Calculate Brier Skill Score = (BSref-BSmodel)/BSref\n",
        "brier_skill_score = (brier_score_reference-brier_score)/brier_score_reference\n",
        "print('Brier Skill Score:',brier_skill_score)"
      ],
      "execution_count": 0,
      "outputs": []
    },
    {
      "cell_type": "code",
      "metadata": {
        "id": "2MwMAP9tweIp",
        "colab_type": "code",
        "colab": {}
      },
      "source": [
        "# Validation ROC Curve\n",
        "\n",
        "false_pos_rate, true_pos_rate, thresholds = roc_curve(test_target['fzn_or_liq'],prob1)\n",
        "\n",
        "plt.plot([0, 1], [0, 1], linestyle='-.', color='g')\n",
        "plt.plot(false_pos_rate, true_pos_rate)\n",
        "plt.title('Validation ROC Curve')\n",
        "plt.xlabel('False Positive Rate')\n",
        "plt.ylabel('True Positive Rate')\n",
        "plt.show()"
      ],
      "execution_count": 0,
      "outputs": []
    },
    {
      "cell_type": "markdown",
      "metadata": {
        "id": "TgmJgZCwjDQ9",
        "colab_type": "text"
      },
      "source": [
        "# **Decision Tree Model**"
      ]
    },
    {
      "cell_type": "code",
      "metadata": {
        "id": "GwVu2iCshtxX",
        "colab_type": "code",
        "colab": {}
      },
      "source": [
        "#from google.colab import drive\n",
        "#drive.mount('/content/gdrive')\n",
        "#change directory to the right spot\n",
        "#import os \n",
        "#os.chdir('/content/gdrive/My Drive/ATMS_597_Project_5')\n",
        "\n",
        "from datetime import datetime\n",
        "import pandas as pd\n",
        "!pip install metpy\n",
        "from metpy.io import parse_metar_to_dataframe\n",
        "import glob\n",
        "import numpy as np\n",
        "from sklearn import tree\n",
        "from sklearn.metrics import roc_curve\n",
        "import pandas as pd\n",
        "import datetime as dt\n",
        "import matplotlib.pyplot as plt\n",
        "import numpy as np"
      ],
      "execution_count": 0,
      "outputs": []
    },
    {
      "cell_type": "code",
      "metadata": {
        "id": "Ow8rkBZokIcg",
        "colab_type": "code",
        "colab": {}
      },
      "source": [
        "# Read data\n",
        "filename= '/content/drive/My Drive/decoded_metar_FINAL.csv'\n",
        "decoded_metar_dataset=pd.read_csv(filename,dtype={'current_wx1':str})\n",
        "decoded_metar_dataset\n",
        "\n",
        "##Rain/Liquid: RA, FZRA, TSRA =value 0  Snow/Freezing: SN, SNDZ=value 1)"
      ],
      "execution_count": 0,
      "outputs": []
    },
    {
      "cell_type": "code",
      "metadata": {
        "id": "Z8tZ2EORpVss",
        "colab_type": "code",
        "colab": {}
      },
      "source": [
        "where_snow_rain = [i for i,x in enumerate(decoded_metar_dataset['current_wx1'].to_list()) if ('RA' in x) | ('SN' in x)]\n",
        "rain_snow = decoded_metar_dataset.iloc[where_snow_rain]\n",
        "rain_snow.index = pd.to_datetime(rain_snow.index)\n",
        "exclude_both = [i for i,x in enumerate(rain_snow['current_wx1'].to_list()) if 'SNRA' not in x]\n",
        "rain_snow = rain_snow.iloc[exclude_both]\n",
        "set(rain_snow['current_wx1'].to_list())"
      ],
      "execution_count": 0,
      "outputs": []
    },
    {
      "cell_type": "code",
      "metadata": {
        "id": "ymlYujkZpYgx",
        "colab_type": "code",
        "colab": {}
      },
      "source": [
        "rain_snow['snow'] = 0\n",
        "where_snow = [i for i,x in enumerate(rain_snow['current_wx1'].to_list()) if 'SN' in x]\n",
        "rain_snow['snow'][where_snow] = 1\n",
        "\n",
        "rain_snow['day_of_year'] = rain_snow.index.dayofyear"
      ],
      "execution_count": 0,
      "outputs": []
    },
    {
      "cell_type": "code",
      "metadata": {
        "id": "M3zSubDGpbC3",
        "colab_type": "code",
        "colab": {}
      },
      "source": [
        "features = ['air_temperature', 'wind_speed', 'wind_direction',  \n",
        "            'dew_point_temperature', \n",
        "            'altimeter', 'eastward_wind', \n",
        "            'northward_wind', 'day_of_year',\n",
        "            'snow']\n",
        "\n",
        "rain_snow_sub = rain_snow.dropna(subset = features)\n",
        "train_X, valid_X, train_y, valid_y = train_test_split(rain_snow_sub[features[:-1]], rain_snow_sub['snow'], \n",
        "                                                  test_size = 0.3, random_state = 50)"
      ],
      "execution_count": 0,
      "outputs": []
    },
    {
      "cell_type": "code",
      "metadata": {
        "id": "MroJWlxlpijD",
        "colab_type": "code",
        "colab": {}
      },
      "source": [
        "dtree    = tree.DecisionTreeClassifier()\n",
        "model  = dtree.fit(train_X, train_y)\n",
        "prediction = model.predict(valid_X)\n",
        "\n",
        "valid_prob = model.predict_proba(valid_X)\n",
        "train_prob = model.predict_proba(train_X)"
      ],
      "execution_count": 0,
      "outputs": []
    },
    {
      "cell_type": "code",
      "metadata": {
        "id": "Mrfo3fl4pkjK",
        "colab_type": "code",
        "colab": {}
      },
      "source": [
        "def get_climo(y, shape):\n",
        "    climo = (np.size((y == 1).values.nonzero()))/float(np.size(y))\n",
        "    prob  = np.zeros((shape))\n",
        "    prob[:,0] = 1-climo\n",
        "    prob[:,1] = climo\n",
        "\n",
        "    return prob"
      ],
      "execution_count": 0,
      "outputs": []
    },
    {
      "cell_type": "code",
      "metadata": {
        "id": "cv4zQazopobT",
        "colab_type": "code",
        "colab": {}
      },
      "source": [
        "train_climo_prob = get_climo(train_y, train_prob.shape)\n",
        "valid_climo_prob = get_climo(valid_y, valid_prob.shape)\n",
        "bsscore_train = 1 - (brier_score_loss(train_y, train_prob[:,1])/brier_score_loss(train_y, train_climo_prob[:,1]))\n",
        "bsscore_valid = 1 - (brier_score_loss(valid_y, valid_prob[:,1])/brier_score_loss(valid_y, valid_climo_prob[:,1]))"
      ],
      "execution_count": 0,
      "outputs": []
    },
    {
      "cell_type": "code",
      "metadata": {
        "id": "epX1gOQUpqjP",
        "colab_type": "code",
        "colab": {}
      },
      "source": [
        "print('Training Brier skill score: ' + str(bsscore_train))\n",
        "print('Validation Brier skill score: ' + str(bsscore_valid))"
      ],
      "execution_count": 0,
      "outputs": []
    },
    {
      "cell_type": "code",
      "metadata": {
        "id": "C7KQWt5CpslX",
        "colab_type": "code",
        "colab": {}
      },
      "source": [
        "# Validation ROC Curve\n",
        "\n",
        "false_pos_rate, true_pos_rate, thresholds = roc_curve(valid_y, valid_prob[:,1])\n",
        "\n",
        "plt.plot([0, 1], [0, 1], linestyle='-.', color='g')\n",
        "plt.plot(false_pos_rate, true_pos_rate)\n",
        "plt.title('Validation ROC Curve')\n",
        "plt.xlabel('False Positive Rate')\n",
        "plt.ylabel('True Positive Rate')\n",
        "plt.show()"
      ],
      "execution_count": 0,
      "outputs": []
    },
    {
      "cell_type": "code",
      "metadata": {
        "id": "FWGD5UfNpuvZ",
        "colab_type": "code",
        "colab": {}
      },
      "source": [
        ""
      ],
      "execution_count": 0,
      "outputs": []
    }
  ]
}